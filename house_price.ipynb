{
 "cells": [
  {
   "cell_type": "markdown",
   "metadata": {},
   "source": [
    "# Housing Price Prediction in Lagos, Nigeria\n",
    "\n",
    "![Housing Market](https://i.postimg.cc/43tF36JH/LAGOS.jpg)\n",
    "\n",
    "## Introduction\n",
    "The real estate market in Lagos is dynamic, with property prices influenced by various factors such as location, number of bedrooms, and amenities. Accurately predicting housing prices can help buyers, sellers, and investors make informed decisions. In this notebook, we will analyze a dataset containing property listings and develop a machine learning model to predict housing prices in Lagos.\n",
    "\n",
    "### Objective\n",
    "To develop a predictive model using machine learning algorithms to forecast housing prices in Lagos, Nigeria.\n",
    "\n",
    "### Summary Objective\n",
    "- Analyzing the real estate market in Lagos to create a predictive model that can help stakeholders make informed decisions.\n",
    "- To analyze the relationship between various factors and housing prices in Lagos, Nigeria.\n",
    "- To develop an accurate predictive model that can forecast housing prices in Lagos, Nigeria, and identify the most influential factors affecting housing prices.\n",
    "\n",
    "### Methodology\n",
    "The project will utilize a dataset from **Open Africa** (https://open.africa/dataset/cost-of-housing-in-lagos) containing information on housing prices in Lagos. The dataset will be preprocessed, and four machine learning models will be implemented:\n",
    "\n",
    "1. **Linear Regression Model**\n",
    "2. **Random Forest Regressor**\n",
    "3. **Gradient Boosting Regressor**\n",
    "4. **Support Vector Regressor (SVR)**\n",
    "\n",
    "The project aims to:\n",
    "1. Develop a predictive model that can accurately forecast housing prices in Lagos, Nigeria.\n",
    "2. Evaluate the performance of the four machine learning models.\n",
    "3. Identify the most influential factors affecting housing prices in Lagos.\n",
    "\n",
    "### Conclusion\n",
    "This project will contribute to the understanding of the real estate market in Lagos, Nigeria, and provide a valuable tool for stakeholders to make informed decisions.\n",
    "\n",
    "### Recommendations\n",
    "Future research can focus on incorporating additional data sources, exploring other machine learning algorithms, and developing a web-based application for easy access to the predictive model.\n",
    "\n",
    "## Table of Contents\n",
    "\n",
    "- [Importing Libraries](#importing-libraries)\n",
    "- [Loading Data](#loading-data)\n",
    "- [Data Overview to Understand Its Structure](#data-overview-to-understand-its-structure)\n",
    "- [Exploratory Data Analysis (EDA)](#exploratory-data-analysis-eda)\n",
    "- [Data Preprocessing](#data-preprocessing)\n",
    "- [Modeling](#modeling)\n",
    "- [Results](#results)"
   ]
  },
  {
   "cell_type": "markdown",
   "metadata": {},
   "source": [
    "## Importing Libraries\n",
    "To begin our analysis and modeling, we first need to import essential Python libraries"
   ]
  },
  {
   "cell_type": "code",
   "execution_count": 5,
   "metadata": {},
   "outputs": [],
   "source": [
    "# Importing Libraries\n",
    "import pandas as pd  \n",
    "import numpy as np  \n",
    "import matplotlib.pyplot as plt  \n",
    "import seaborn as sns\n",
    "import plotly.express as px\n",
    "import plotly.graph_objects as go\n",
    "from sklearn.model_selection import train_test_split,GridSearchCV  \n",
    "from sklearn.preprocessing import StandardScaler, LabelEncoder, PowerTransformer \n",
    "from sklearn.linear_model import LinearRegression  \n",
    "from sklearn.ensemble import RandomForestRegressor\n",
    "from sklearn.linear_model import LinearRegression\n",
    "from sklearn.ensemble import RandomForestRegressor, GradientBoostingRegressor\n",
    "from sklearn.svm import SVR\n",
    "from sklearn.pipeline import Pipeline\n",
    "from sklearn.metrics import mean_absolute_error, mean_squared_error, r2_score\n",
    "import ipywidgets as widgets\n",
    "from ipywidgets import interact, IntSlider, Dropdown\n",
    "from IPython.display import display\n",
    "  \n"
   ]
  },
  {
   "cell_type": "code",
   "execution_count": 6,
   "metadata": {},
   "outputs": [],
   "source": [
    "# Ignore warnings for cleaner output\n",
    "import warnings\n",
    "warnings.filterwarnings(\"ignore\")"
   ]
  },
  {
   "cell_type": "markdown",
   "metadata": {},
   "source": [
    "## Loading Data\n"
   ]
  },
  {
   "cell_type": "code",
   "execution_count": 7,
   "metadata": {},
   "outputs": [],
   "source": [
    "file_path = r\"housing_lagos.csv\"\n",
    "df = pd.read_csv(file_path)"
   ]
  },
  {
   "cell_type": "markdown",
   "metadata": {},
   "source": [
    "## Data Overview to Understand Its Structure"
   ]
  },
  {
   "cell_type": "code",
   "execution_count": 8,
   "metadata": {},
   "outputs": [
    {
     "data": {
      "text/html": [
       "<div>\n",
       "<style scoped>\n",
       "    .dataframe tbody tr th:only-of-type {\n",
       "        vertical-align: middle;\n",
       "    }\n",
       "\n",
       "    .dataframe tbody tr th {\n",
       "        vertical-align: top;\n",
       "    }\n",
       "\n",
       "    .dataframe thead th {\n",
       "        text-align: right;\n",
       "    }\n",
       "</style>\n",
       "<table border=\"1\" class=\"dataframe\">\n",
       "  <thead>\n",
       "    <tr style=\"text-align: right;\">\n",
       "      <th></th>\n",
       "      <th>Title</th>\n",
       "      <th>More Info</th>\n",
       "      <th>Price</th>\n",
       "      <th>Serviced</th>\n",
       "      <th>Newly Built</th>\n",
       "      <th>Furnished</th>\n",
       "      <th>Bedrooms</th>\n",
       "      <th>Bathrooms</th>\n",
       "      <th>Toilets</th>\n",
       "      <th>City</th>\n",
       "      <th>Neighborhood</th>\n",
       "    </tr>\n",
       "  </thead>\n",
       "  <tbody>\n",
       "    <tr>\n",
       "      <th>0</th>\n",
       "      <td>Newly Built 4 Bedroom Semi Detached House With Bq</td>\n",
       "      <td>4 BEDROOM HOUSE FOR RENT</td>\n",
       "      <td>5,000,000/year</td>\n",
       "      <td>0</td>\n",
       "      <td>1</td>\n",
       "      <td>0</td>\n",
       "      <td>4 beds</td>\n",
       "      <td>4 baths</td>\n",
       "      <td>5 Toilets</td>\n",
       "      <td>Lekki</td>\n",
       "      <td>Agungi</td>\n",
       "    </tr>\n",
       "    <tr>\n",
       "      <th>1</th>\n",
       "      <td>Superb 4 Bedroom Semi Detached Duplex With Bq</td>\n",
       "      <td>4 BEDROOM HOUSE FOR RENT</td>\n",
       "      <td>5,000,000/year</td>\n",
       "      <td>0</td>\n",
       "      <td>1</td>\n",
       "      <td>0</td>\n",
       "      <td>4 beds</td>\n",
       "      <td>4 baths</td>\n",
       "      <td>5 Toilets</td>\n",
       "      <td>Lekki</td>\n",
       "      <td>Other Lekki</td>\n",
       "    </tr>\n",
       "    <tr>\n",
       "      <th>2</th>\n",
       "      <td>Furnished 2 Bedroom Terrace Duplex For Rent !!!</td>\n",
       "      <td>2 BEDROOM HOUSE FOR RENT</td>\n",
       "      <td>3,500,000</td>\n",
       "      <td>1</td>\n",
       "      <td>0</td>\n",
       "      <td>0</td>\n",
       "      <td>2 beds</td>\n",
       "      <td>3 baths</td>\n",
       "      <td>3 Toilets</td>\n",
       "      <td>Lekki</td>\n",
       "      <td>Osapa London</td>\n",
       "    </tr>\n",
       "    <tr>\n",
       "      <th>3</th>\n",
       "      <td>2 Bedroom Apartment For Rent</td>\n",
       "      <td>2 BEDROOM HOUSE FOR RENT</td>\n",
       "      <td>2,700,000</td>\n",
       "      <td>1</td>\n",
       "      <td>1</td>\n",
       "      <td>0</td>\n",
       "      <td>2 beds</td>\n",
       "      <td>3 baths</td>\n",
       "      <td>3 Toilets</td>\n",
       "      <td>Lekki</td>\n",
       "      <td>Ologolo</td>\n",
       "    </tr>\n",
       "    <tr>\n",
       "      <th>4</th>\n",
       "      <td>4 Bedroom Terrace Duplex For Rent</td>\n",
       "      <td>4 BEDROOM HOUSE FOR RENT</td>\n",
       "      <td>4,000,000</td>\n",
       "      <td>1</td>\n",
       "      <td>0</td>\n",
       "      <td>0</td>\n",
       "      <td>4 beds</td>\n",
       "      <td>5 baths</td>\n",
       "      <td>5 Toilets</td>\n",
       "      <td>Lekki</td>\n",
       "      <td>Chevron</td>\n",
       "    </tr>\n",
       "  </tbody>\n",
       "</table>\n",
       "</div>"
      ],
      "text/plain": [
       "                                               Title  \\\n",
       "0  Newly Built 4 Bedroom Semi Detached House With Bq   \n",
       "1      Superb 4 Bedroom Semi Detached Duplex With Bq   \n",
       "2    Furnished 2 Bedroom Terrace Duplex For Rent !!!   \n",
       "3                       2 Bedroom Apartment For Rent   \n",
       "4                  4 Bedroom Terrace Duplex For Rent   \n",
       "\n",
       "                  More Info           Price  Serviced  Newly Built  Furnished  \\\n",
       "0  4 BEDROOM HOUSE FOR RENT  5,000,000/year         0            1          0   \n",
       "1  4 BEDROOM HOUSE FOR RENT  5,000,000/year         0            1          0   \n",
       "2  2 BEDROOM HOUSE FOR RENT       3,500,000         1            0          0   \n",
       "3  2 BEDROOM HOUSE FOR RENT       2,700,000         1            1          0   \n",
       "4  4 BEDROOM HOUSE FOR RENT       4,000,000         1            0          0   \n",
       "\n",
       "  Bedrooms Bathrooms    Toilets   City  Neighborhood  \n",
       "0   4 beds   4 baths  5 Toilets  Lekki        Agungi  \n",
       "1   4 beds   4 baths  5 Toilets  Lekki   Other Lekki  \n",
       "2   2 beds   3 baths  3 Toilets  Lekki  Osapa London  \n",
       "3   2 beds   3 baths  3 Toilets  Lekki       Ologolo  \n",
       "4   4 beds   5 baths  5 Toilets  Lekki       Chevron  "
      ]
     },
     "execution_count": 8,
     "metadata": {},
     "output_type": "execute_result"
    }
   ],
   "source": [
    "df.head()"
   ]
  },
  {
   "cell_type": "code",
   "execution_count": 9,
   "metadata": {},
   "outputs": [
    {
     "data": {
      "text/plain": [
       "(53070, 11)"
      ]
     },
     "execution_count": 9,
     "metadata": {},
     "output_type": "execute_result"
    }
   ],
   "source": [
    "df.shape"
   ]
  },
  {
   "cell_type": "code",
   "execution_count": 10,
   "metadata": {},
   "outputs": [
    {
     "name": "stdout",
     "output_type": "stream",
     "text": [
      "<class 'pandas.core.frame.DataFrame'>\n",
      "RangeIndex: 53070 entries, 0 to 53069\n",
      "Data columns (total 11 columns):\n",
      " #   Column        Non-Null Count  Dtype \n",
      "---  ------        --------------  ----- \n",
      " 0   Title         53070 non-null  object\n",
      " 1   More Info     53070 non-null  object\n",
      " 2   Price         53070 non-null  object\n",
      " 3   Serviced      53070 non-null  int64 \n",
      " 4   Newly Built   53070 non-null  int64 \n",
      " 5   Furnished     53070 non-null  int64 \n",
      " 6   Bedrooms      53070 non-null  object\n",
      " 7   Bathrooms     53070 non-null  object\n",
      " 8   Toilets       53070 non-null  object\n",
      " 9   City          53070 non-null  object\n",
      " 10  Neighborhood  53070 non-null  object\n",
      "dtypes: int64(3), object(8)\n",
      "memory usage: 4.5+ MB\n"
     ]
    }
   ],
   "source": [
    "df.info()"
   ]
  },
  {
   "cell_type": "markdown",
   "metadata": {},
   "source": [
    "Observations:\n",
    "\n",
    "The dataset has 53070 rows and 11 columns.\n",
    "\n",
    "Some numerical columns (Price, Bedrooms, Bathrooms, Toilets) are stored as objects (strings) and need conversion.\n",
    "\n",
    "The dataset does not have missing values (Non-Null Count = 53070 for all columns)."
   ]
  },
  {
   "cell_type": "markdown",
   "metadata": {},
   "source": [
    "## Exploratory Data Analysis (EDA)\n",
    "\n",
    "Clean and Convert Data Types an Convert Columns to Numeric"
   ]
  },
  {
   "cell_type": "code",
   "execution_count": 11,
   "metadata": {},
   "outputs": [
    {
     "data": {
      "text/plain": [
       "0        5,000,000/year\n",
       "1        5,000,000/year\n",
       "2             3,500,000\n",
       "3             2,700,000\n",
       "4             4,000,000\n",
       "              ...      \n",
       "53065           500,000\n",
       "53066           400,000\n",
       "53067           600,000\n",
       "53068           950,000\n",
       "53069           400,000\n",
       "Name: Price, Length: 53070, dtype: object"
      ]
     },
     "execution_count": 11,
     "metadata": {},
     "output_type": "execute_result"
    }
   ],
   "source": [
    "df[\"Price\"]"
   ]
  },
  {
   "cell_type": "code",
   "execution_count": 12,
   "metadata": {},
   "outputs": [],
   "source": [
    "df[\"Price\"] = (\n",
    "    df[\"Price\"]\n",
    "    .str.split(\"/\").str[0] \n",
    "    .str.replace(\",\", \"\", regex=True) \n",
    "    .astype(int) \n",
    ")"
   ]
  },
  {
   "cell_type": "code",
   "execution_count": 13,
   "metadata": {},
   "outputs": [
    {
     "data": {
      "text/plain": [
       "0        5000000\n",
       "1        5000000\n",
       "2        3500000\n",
       "3        2700000\n",
       "4        4000000\n",
       "          ...   \n",
       "53065     500000\n",
       "53066     400000\n",
       "53067     600000\n",
       "53068     950000\n",
       "53069     400000\n",
       "Name: Price, Length: 53070, dtype: int64"
      ]
     },
     "execution_count": 13,
     "metadata": {},
     "output_type": "execute_result"
    }
   ],
   "source": [
    "df[\"Price\"]"
   ]
  },
  {
   "cell_type": "code",
   "execution_count": 14,
   "metadata": {},
   "outputs": [
    {
     "data": {
      "text/plain": [
       "0        4 beds\n",
       "1        4 beds\n",
       "2        2 beds\n",
       "3        2 beds\n",
       "4        4 beds\n",
       "          ...  \n",
       "53065    1 beds\n",
       "53066    1 beds\n",
       "53067    2 beds\n",
       "53068    3 beds\n",
       "53069    1 beds\n",
       "Name: Bedrooms, Length: 53070, dtype: object"
      ]
     },
     "execution_count": 14,
     "metadata": {},
     "output_type": "execute_result"
    }
   ],
   "source": [
    "df[\"Bedrooms\"]"
   ]
  },
  {
   "cell_type": "code",
   "execution_count": 15,
   "metadata": {},
   "outputs": [
    {
     "data": {
      "text/plain": [
       "Bedrooms\n",
       "3 beds     13762\n",
       "1 beds     10770\n",
       "2 beds     10200\n",
       "4 beds      9258\n",
       "0 beds      4781\n",
       "5 beds      2929\n",
       "beds         759\n",
       "6 beds       291\n",
       "10 beds      154\n",
       "7 beds        82\n",
       "8 beds        62\n",
       "9 beds        22\n",
       "Name: count, dtype: int64"
      ]
     },
     "execution_count": 15,
     "metadata": {},
     "output_type": "execute_result"
    }
   ],
   "source": [
    "df[\"Bedrooms\"].value_counts()"
   ]
  },
  {
   "cell_type": "code",
   "execution_count": 16,
   "metadata": {},
   "outputs": [
    {
     "name": "stdout",
     "output_type": "stream",
     "text": [
      "0    4\n",
      "1    4\n",
      "2    2\n",
      "3    2\n",
      "4    4\n",
      "Name: Bedrooms, dtype: object\n"
     ]
    }
   ],
   "source": [
    "# Remove \" beds\" and convert to integer\n",
    "df[\"Bedrooms\"] = df[\"Bedrooms\"].str.replace(\" beds\", \"\", regex=True).str.extract(r\"(\\d+)\")\n",
    "\n",
    "# Display cleaned column\n",
    "print(df[\"Bedrooms\"].head())"
   ]
  },
  {
   "cell_type": "code",
   "execution_count": null,
   "metadata": {},
   "outputs": [],
   "source": []
  },
  {
   "cell_type": "code",
   "execution_count": 17,
   "metadata": {},
   "outputs": [
    {
     "data": {
      "text/plain": [
       "0        4 baths\n",
       "1        4 baths\n",
       "2        3 baths\n",
       "3        3 baths\n",
       "4        5 baths\n",
       "          ...   \n",
       "53065    2 baths\n",
       "53066    1 baths\n",
       "53067    2 baths\n",
       "53068    2 baths\n",
       "53069    1 baths\n",
       "Name: Bathrooms, Length: 53070, dtype: object"
      ]
     },
     "execution_count": 17,
     "metadata": {},
     "output_type": "execute_result"
    }
   ],
   "source": [
    "df[\"Bathrooms\"]"
   ]
  },
  {
   "cell_type": "code",
   "execution_count": 18,
   "metadata": {},
   "outputs": [
    {
     "name": "stdout",
     "output_type": "stream",
     "text": [
      "0    4\n",
      "1    4\n",
      "2    3\n",
      "3    3\n",
      "4    5\n",
      "Name: Bathrooms, dtype: object\n"
     ]
    }
   ],
   "source": [
    "# Remove \" baths\" and convert to integer\n",
    "df[\"Bathrooms\"] = df[\"Bathrooms\"].str.replace(\" baths\", \"\", regex=True)\n",
    "\n",
    "# Display cleaned column\n",
    "print(df[\"Bathrooms\"].head())\n"
   ]
  },
  {
   "cell_type": "code",
   "execution_count": 19,
   "metadata": {},
   "outputs": [
    {
     "data": {
      "text/plain": [
       "0        5 Toilets\n",
       "1        5 Toilets\n",
       "2        3 Toilets\n",
       "3        3 Toilets\n",
       "4        5 Toilets\n",
       "           ...    \n",
       "53065    2 Toilets\n",
       "53066    1 Toilets\n",
       "53067    3 Toilets\n",
       "53068    2 Toilets\n",
       "53069    1 Toilets\n",
       "Name: Toilets, Length: 53070, dtype: object"
      ]
     },
     "execution_count": 19,
     "metadata": {},
     "output_type": "execute_result"
    }
   ],
   "source": [
    "df[\"Toilets\"]"
   ]
  },
  {
   "cell_type": "code",
   "execution_count": 20,
   "metadata": {},
   "outputs": [
    {
     "name": "stdout",
     "output_type": "stream",
     "text": [
      "0    5\n",
      "1    5\n",
      "2    3\n",
      "3    3\n",
      "4    5\n",
      "Name: Toilets, dtype: object\n"
     ]
    }
   ],
   "source": [
    "# Remove \" Toilets\" and convert to integer\n",
    "df[\"Toilets\"] = df[\"Toilets\"].str.replace(\" Toilets\", \"\", regex=True)\n",
    "\n",
    "# Display cleaned column\n",
    "print(df[\"Toilets\"].head())"
   ]
  },
  {
   "cell_type": "markdown",
   "metadata": {},
   "source": [
    "Check Outliers"
   ]
  },
  {
   "cell_type": "code",
   "execution_count": 21,
   "metadata": {},
   "outputs": [
    {
     "name": "stdout",
     "output_type": "stream",
     "text": [
      "              Price      Serviced  Newly Built     Furnished\n",
      "count  5.307000e+04  53070.000000  53070.00000  53070.000000\n",
      "mean   4.297018e+07      0.209761      0.28306      0.115640\n",
      "std    7.383023e+09      0.407142      0.45049      0.319795\n",
      "min    1.000000e+00      0.000000      0.00000      0.000000\n",
      "25%    9.000000e+05      0.000000      0.00000      0.000000\n",
      "50%    2.000000e+06      0.000000      0.00000      0.000000\n",
      "75%    4.500000e+06      0.000000      1.00000      0.000000\n",
      "max    1.700000e+12      1.000000      1.00000      1.000000\n"
     ]
    }
   ],
   "source": [
    "print(df.describe())"
   ]
  },
  {
   "cell_type": "markdown",
   "metadata": {},
   "source": [
    "Check for Missing Values"
   ]
  },
  {
   "cell_type": "code",
   "execution_count": 22,
   "metadata": {},
   "outputs": [
    {
     "name": "stdout",
     "output_type": "stream",
     "text": [
      "Title             0\n",
      "More Info         0\n",
      "Price             0\n",
      "Serviced          0\n",
      "Newly Built       0\n",
      "Furnished         0\n",
      "Bedrooms        759\n",
      "Bathrooms         0\n",
      "Toilets           0\n",
      "City              0\n",
      "Neighborhood      0\n",
      "dtype: int64\n"
     ]
    }
   ],
   "source": [
    "print(df.isnull().sum())"
   ]
  },
  {
   "cell_type": "markdown",
   "metadata": {},
   "source": [
    "## Data Preprocessing"
   ]
  },
  {
   "cell_type": "code",
   "execution_count": 23,
   "metadata": {},
   "outputs": [
    {
     "data": {
      "text/html": [
       "<div>\n",
       "<style scoped>\n",
       "    .dataframe tbody tr th:only-of-type {\n",
       "        vertical-align: middle;\n",
       "    }\n",
       "\n",
       "    .dataframe tbody tr th {\n",
       "        vertical-align: top;\n",
       "    }\n",
       "\n",
       "    .dataframe thead th {\n",
       "        text-align: right;\n",
       "    }\n",
       "</style>\n",
       "<table border=\"1\" class=\"dataframe\">\n",
       "  <thead>\n",
       "    <tr style=\"text-align: right;\">\n",
       "      <th></th>\n",
       "      <th>Title</th>\n",
       "      <th>More Info</th>\n",
       "      <th>Price</th>\n",
       "      <th>Serviced</th>\n",
       "      <th>Newly Built</th>\n",
       "      <th>Furnished</th>\n",
       "      <th>Bedrooms</th>\n",
       "      <th>Bathrooms</th>\n",
       "      <th>Toilets</th>\n",
       "      <th>City</th>\n",
       "      <th>Neighborhood</th>\n",
       "    </tr>\n",
       "  </thead>\n",
       "  <tbody>\n",
       "    <tr>\n",
       "      <th>0</th>\n",
       "      <td>Newly Built 4 Bedroom Semi Detached House With Bq</td>\n",
       "      <td>4 BEDROOM HOUSE FOR RENT</td>\n",
       "      <td>5000000</td>\n",
       "      <td>0</td>\n",
       "      <td>1</td>\n",
       "      <td>0</td>\n",
       "      <td>4</td>\n",
       "      <td>4</td>\n",
       "      <td>5</td>\n",
       "      <td>Lekki</td>\n",
       "      <td>Agungi</td>\n",
       "    </tr>\n",
       "    <tr>\n",
       "      <th>1</th>\n",
       "      <td>Superb 4 Bedroom Semi Detached Duplex With Bq</td>\n",
       "      <td>4 BEDROOM HOUSE FOR RENT</td>\n",
       "      <td>5000000</td>\n",
       "      <td>0</td>\n",
       "      <td>1</td>\n",
       "      <td>0</td>\n",
       "      <td>4</td>\n",
       "      <td>4</td>\n",
       "      <td>5</td>\n",
       "      <td>Lekki</td>\n",
       "      <td>Other Lekki</td>\n",
       "    </tr>\n",
       "    <tr>\n",
       "      <th>2</th>\n",
       "      <td>Furnished 2 Bedroom Terrace Duplex For Rent !!!</td>\n",
       "      <td>2 BEDROOM HOUSE FOR RENT</td>\n",
       "      <td>3500000</td>\n",
       "      <td>1</td>\n",
       "      <td>0</td>\n",
       "      <td>0</td>\n",
       "      <td>2</td>\n",
       "      <td>3</td>\n",
       "      <td>3</td>\n",
       "      <td>Lekki</td>\n",
       "      <td>Osapa London</td>\n",
       "    </tr>\n",
       "    <tr>\n",
       "      <th>3</th>\n",
       "      <td>2 Bedroom Apartment For Rent</td>\n",
       "      <td>2 BEDROOM HOUSE FOR RENT</td>\n",
       "      <td>2700000</td>\n",
       "      <td>1</td>\n",
       "      <td>1</td>\n",
       "      <td>0</td>\n",
       "      <td>2</td>\n",
       "      <td>3</td>\n",
       "      <td>3</td>\n",
       "      <td>Lekki</td>\n",
       "      <td>Ologolo</td>\n",
       "    </tr>\n",
       "    <tr>\n",
       "      <th>4</th>\n",
       "      <td>4 Bedroom Terrace Duplex For Rent</td>\n",
       "      <td>4 BEDROOM HOUSE FOR RENT</td>\n",
       "      <td>4000000</td>\n",
       "      <td>1</td>\n",
       "      <td>0</td>\n",
       "      <td>0</td>\n",
       "      <td>4</td>\n",
       "      <td>5</td>\n",
       "      <td>5</td>\n",
       "      <td>Lekki</td>\n",
       "      <td>Chevron</td>\n",
       "    </tr>\n",
       "  </tbody>\n",
       "</table>\n",
       "</div>"
      ],
      "text/plain": [
       "                                               Title  \\\n",
       "0  Newly Built 4 Bedroom Semi Detached House With Bq   \n",
       "1      Superb 4 Bedroom Semi Detached Duplex With Bq   \n",
       "2    Furnished 2 Bedroom Terrace Duplex For Rent !!!   \n",
       "3                       2 Bedroom Apartment For Rent   \n",
       "4                  4 Bedroom Terrace Duplex For Rent   \n",
       "\n",
       "                  More Info    Price  Serviced  Newly Built  Furnished  \\\n",
       "0  4 BEDROOM HOUSE FOR RENT  5000000         0            1          0   \n",
       "1  4 BEDROOM HOUSE FOR RENT  5000000         0            1          0   \n",
       "2  2 BEDROOM HOUSE FOR RENT  3500000         1            0          0   \n",
       "3  2 BEDROOM HOUSE FOR RENT  2700000         1            1          0   \n",
       "4  4 BEDROOM HOUSE FOR RENT  4000000         1            0          0   \n",
       "\n",
       "  Bedrooms Bathrooms Toilets   City  Neighborhood  \n",
       "0        4         4       5  Lekki        Agungi  \n",
       "1        4         4       5  Lekki   Other Lekki  \n",
       "2        2         3       3  Lekki  Osapa London  \n",
       "3        2         3       3  Lekki       Ologolo  \n",
       "4        4         5       5  Lekki       Chevron  "
      ]
     },
     "execution_count": 23,
     "metadata": {},
     "output_type": "execute_result"
    }
   ],
   "source": [
    "df.head()"
   ]
  },
  {
   "cell_type": "code",
   "execution_count": 24,
   "metadata": {},
   "outputs": [
    {
     "name": "stdout",
     "output_type": "stream",
     "text": [
      "Price\n",
      "1500000      2666\n",
      "2500000      2484\n",
      "3500000      2300\n",
      "3000000      2289\n",
      "2000000      2212\n",
      "             ... \n",
      "56000000        1\n",
      "960000          1\n",
      "265000          1\n",
      "750000000       1\n",
      "1470000         1\n",
      "Name: count, Length: 523, dtype: int64\n"
     ]
    }
   ],
   "source": [
    "print(df[\"Price\"].value_counts())\n"
   ]
  },
  {
   "cell_type": "code",
   "execution_count": 25,
   "metadata": {},
   "outputs": [
    {
     "data": {
      "text/plain": [
       "<Axes: xlabel='Price', ylabel='Count'>"
      ]
     },
     "execution_count": 25,
     "metadata": {},
     "output_type": "execute_result"
    },
    {
     "data": {
      "image/png": "[encoded data removed]",
      "text/plain": [
       "<Figure size 640x480 with 1 Axes>"
      ]
     },
     "metadata": {},
     "output_type": "display_data"
    }
   ],
   "source": [
    "df_house_price_500m = df[df[\"Price\"] < 100000000]\n",
    "sns.histplot(df[\"Price\"], bins=30, kde=True)\n"
   ]
  },
  {
   "cell_type": "markdown",
   "metadata": {},
   "source": [
    "Handling Rare Outliers to remove rare outliers that distort the analysis:"
   ]
  },
  {
   "cell_type": "code",
   "execution_count": 26,
   "metadata": {},
   "outputs": [
    {
     "data": {
      "image/png": "[encoded data removed]",
      "text/plain": [
       "<Figure size 1200x600 with 1 Axes>"
      ]
     },
     "metadata": {},
     "output_type": "display_data"
    }
   ],
   "source": [
    "top_prices = df[\"Price\"].value_counts().head(20)\n",
    "top_prices.plot(kind=\"bar\", figsize=(12,6))\n",
    "plt.title(\"Top 20 Most Frequent Property Prices\")\n",
    "plt.xlabel(\"Price (NGN)\")\n",
    "plt.ylabel(\"Count\")\n",
    "plt.show()"
   ]
  },
  {
   "cell_type": "code",
   "execution_count": 27,
   "metadata": {},
   "outputs": [
    {
     "name": "stdout",
     "output_type": "stream",
     "text": [
      "City\n",
      "Lekki       19150\n",
      "Ajah         6258\n",
      "Yaba         5018\n",
      "Ojodu        4695\n",
      "Ikoyi        4366\n",
      "Surulere     3835\n",
      "Gbagada      3554\n",
      "Ikeja        3531\n",
      "Island       2663\n",
      "Name: count, dtype: int64\n"
     ]
    }
   ],
   "source": [
    "print(df[\"City\"].value_counts())  # Check distribution of cities"
   ]
  },
  {
   "cell_type": "code",
   "execution_count": 28,
   "metadata": {},
   "outputs": [
    {
     "name": "stdout",
     "output_type": "stream",
     "text": [
      "69\n"
     ]
    }
   ],
   "source": [
    "print(df[\"Neighborhood\"].nunique())  # Check number of unique neighborhoods"
   ]
  },
  {
   "cell_type": "code",
   "execution_count": 29,
   "metadata": {},
   "outputs": [
    {
     "name": "stdout",
     "output_type": "stream",
     "text": [
      "mean_price_by_city type: <class 'pandas.core.series.Series'>\n",
      "mean_price_by_city shape: (9,)\n"
     ]
    },
    {
     "data": {
      "text/plain": [
       "City\n",
       "Island      6.761860e+08\n",
       "Ikoyi       2.100493e+07\n",
       "Ikeja       1.231490e+07\n",
       "Lekki       1.135814e+07\n",
       "Surulere    8.726536e+06\n",
       "Ajah        6.659925e+06\n",
       "Gbagada     6.646557e+06\n",
       "Ojodu       3.735125e+06\n",
       "Yaba        2.140692e+06\n",
       "Name: Price, dtype: float64"
      ]
     },
     "execution_count": 29,
     "metadata": {},
     "output_type": "execute_result"
    }
   ],
   "source": [
    "# Declare variable `mean_price_by_city`\n",
    "mean_price_by_city = df.groupby(\"City\")[\"Price\"].mean().sort_values(ascending=False)\n",
    "\n",
    "# Print object type, shape, and head\n",
    "print(\"mean_price_by_city type:\", type(mean_price_by_city))\n",
    "print(\"mean_price_by_city shape:\", mean_price_by_city.shape)\n",
    "mean_price_by_city"
   ]
  },
  {
   "cell_type": "code",
   "execution_count": 30,
   "metadata": {},
   "outputs": [
    {
     "data": {
      "image/png": "[encoded data removed]",
      "text/plain": [
       "<Figure size 640x480 with 1 Axes>"
      ]
     },
     "metadata": {},
     "output_type": "display_data"
    }
   ],
   "source": [
    "# Create bar chart from `mean_price_by_city` using pandas\n",
    "mean_price_by_city.plot(\n",
    "    kind=\"bar\",\n",
    "    xlabel=\"city\",\n",
    "    ylabel=\"Mean Price [NGN]\",\n",
    "    title=\"Mean House Price by City\"\n",
    "\n",
    ");"
   ]
  },
  {
   "cell_type": "markdown",
   "metadata": {},
   "source": [
    "**Island City Houses** are the most expensive real estate market in Lagos City while \n",
    "\n",
    "**Yaba City Houses** are the least expensive real estate market in Lagos City,\n",
    "\n",
    "which aligns according to recent GDP numbers 2025"
   ]
  },
  {
   "cell_type": "code",
   "execution_count": 31,
   "metadata": {},
   "outputs": [
    {
     "name": "stdout",
     "output_type": "stream",
     "text": [
      "mean_price_by_neighborhood type: <class 'pandas.core.series.Series'>\n",
      "mean_price_by_neighborhood shape: (69,)\n"
     ]
    },
    {
     "data": {
      "text/plain": [
       "Neighborhood\n",
       "Victoria Island Extension    1.179846e+10\n",
       "Ojuelegba                    1.652363e+08\n",
       "Awolowo Road                 9.120675e+07\n",
       "Other Victoria Island        6.741158e+07\n",
       "Banana Island                2.737111e+07\n",
       "                                 ...     \n",
       "Jibowu                       9.982803e+05\n",
       "Olowora                      8.988114e+05\n",
       "Lawanson                     6.743646e+05\n",
       "Ijesha                       6.658272e+05\n",
       "Oworonshoki                  5.116766e+05\n",
       "Name: Price, Length: 69, dtype: float64"
      ]
     },
     "execution_count": 31,
     "metadata": {},
     "output_type": "execute_result"
    }
   ],
   "source": [
    "# Declare variable `mean_price_by_neighborhood`\n",
    "mean_price_by_neighborhood = df.groupby(\"Neighborhood\")[\"Price\"].mean().sort_values(ascending=False)\n",
    "\n",
    "# Print object type, shape, and head\n",
    "print(\"mean_price_by_neighborhood type:\", type(mean_price_by_neighborhood))\n",
    "print(\"mean_price_by_neighborhood shape:\", mean_price_by_neighborhood.shape)\n",
    "mean_price_by_neighborhood"
   ]
  },
  {
   "cell_type": "code",
   "execution_count": 32,
   "metadata": {},
   "outputs": [
    {
     "data": {
      "image/png": "[encoded data removed]",
      "text/plain": [
       "<Figure size 640x480 with 1 Axes>"
      ]
     },
     "metadata": {},
     "output_type": "display_data"
    }
   ],
   "source": [
    "# Group by Neighborhood and compute mean price\n",
    "mean_price_by_neighborhood = df.groupby(\"Neighborhood\")[\"Price\"].mean()\n",
    "\n",
    "# Select the first 20 neighborhoods with the highest mean price\n",
    "mean_price_by_neighborhood.sort_values(ascending=False).head(20).plot(\n",
    "    kind=\"bar\",\n",
    "    xlabel=\"Neighborhood\",\n",
    "    ylabel=\"Mean Price [NGN]\",\n",
    "    title=\"Mean House Price by Neighborhood\"\n",
    ")\n",
    "\n",
    "# Rotate x-axis labels for better visibility\n",
    "plt.xticks(rotation=90)\n",
    "\n",
    "# Show the plot\n",
    "plt.show()\n"
   ]
  },
  {
   "cell_type": "markdown",
   "metadata": {},
   "source": [
    "**Victoria Island Extension Houses** are the most expensive real estate market in Lagos Neighborhood "
   ]
  },
  {
   "cell_type": "code",
   "execution_count": 33,
   "metadata": {},
   "outputs": [
    {
     "data": {
      "image/png": "[encoded data removed]",
      "text/plain": [
       "<Figure size 640x480 with 1 Axes>"
      ]
     },
     "metadata": {},
     "output_type": "display_data"
    }
   ],
   "source": [
    "# Group by Neighborhood and compute mean price\n",
    "mean_price_by_neighborhood = df.groupby(\"Neighborhood\")[\"Price\"].mean()\n",
    "\n",
    "# Select the first 20 neighborhoods with the lowest mean price\n",
    "mean_price_by_neighborhood.sort_values(ascending=True).head(20).plot(\n",
    "    kind=\"bar\",\n",
    "    xlabel=\"Neighborhood\",\n",
    "    ylabel=\"Mean Price [NGN]\",\n",
    "    title=\"Least Expensive Neighborhoods by Mean House Price\"\n",
    ")\n",
    "\n",
    "# Rotate x-axis labels for better visibility\n",
    "plt.xticks(rotation=90)\n",
    "\n",
    "# Show the plot\n",
    "plt.show()\n"
   ]
  },
  {
   "cell_type": "markdown",
   "metadata": {},
   "source": [
    "**Oworonshoki** is the least expensive real estate market in Lagos Neighborhood"
   ]
  },
  {
   "cell_type": "code",
   "execution_count": 34,
   "metadata": {},
   "outputs": [
    {
     "data": {
      "text/plain": [
       "Neighborhood\n",
       "Lekki Phase 1      5262\n",
       "Other Lekki        3880\n",
       "Other Ajah         2639\n",
       "Chevron            2511\n",
       "Ikate              2047\n",
       "                   ... \n",
       "alausa              130\n",
       "Awolowo Road         96\n",
       "Ligali Ayorinde      93\n",
       "Dolphin Estate       77\n",
       "1004                 73\n",
       "Name: count, Length: 69, dtype: int64"
      ]
     },
     "execution_count": 34,
     "metadata": {},
     "output_type": "execute_result"
    }
   ],
   "source": [
    "df[\"Neighborhood\"].value_counts()"
   ]
  },
  {
   "cell_type": "code",
   "execution_count": 35,
   "metadata": {},
   "outputs": [
    {
     "data": {
      "image/png": "[encoded data removed]",
      "text/plain": [
       "<Figure size 1000x500 with 1 Axes>"
      ]
     },
     "metadata": {},
     "output_type": "display_data"
    }
   ],
   "source": [
    "mean_price_by_city = df.groupby(\"City\")[\"Price\"].mean().sort_values()\n",
    "\n",
    "# Plot a bar chart\n",
    "mean_price_by_city.plot(kind=\"bar\", figsize=(10,5), title=\"Average House Prices by City\")\n",
    "plt.xticks(rotation=45)\n",
    "plt.ylabel(\"Mean Price [NGN]\")\n",
    "plt.show()\n"
   ]
  },
  {
   "cell_type": "code",
   "execution_count": 36,
   "metadata": {},
   "outputs": [
    {
     "data": {
      "text/html": [
       "<div>\n",
       "<style scoped>\n",
       "    .dataframe tbody tr th:only-of-type {\n",
       "        vertical-align: middle;\n",
       "    }\n",
       "\n",
       "    .dataframe tbody tr th {\n",
       "        vertical-align: top;\n",
       "    }\n",
       "\n",
       "    .dataframe thead th {\n",
       "        text-align: right;\n",
       "    }\n",
       "</style>\n",
       "<table border=\"1\" class=\"dataframe\">\n",
       "  <thead>\n",
       "    <tr style=\"text-align: right;\">\n",
       "      <th></th>\n",
       "      <th>Title</th>\n",
       "      <th>More Info</th>\n",
       "      <th>Price</th>\n",
       "      <th>Serviced</th>\n",
       "      <th>Newly Built</th>\n",
       "      <th>Furnished</th>\n",
       "      <th>Bedrooms</th>\n",
       "      <th>Bathrooms</th>\n",
       "      <th>Toilets</th>\n",
       "      <th>City</th>\n",
       "      <th>Neighborhood</th>\n",
       "    </tr>\n",
       "  </thead>\n",
       "  <tbody>\n",
       "    <tr>\n",
       "      <th>0</th>\n",
       "      <td>Newly Built 4 Bedroom Semi Detached House With Bq</td>\n",
       "      <td>4 BEDROOM HOUSE FOR RENT</td>\n",
       "      <td>5000000</td>\n",
       "      <td>0</td>\n",
       "      <td>1</td>\n",
       "      <td>0</td>\n",
       "      <td>4</td>\n",
       "      <td>4</td>\n",
       "      <td>5</td>\n",
       "      <td>Lekki</td>\n",
       "      <td>Agungi</td>\n",
       "    </tr>\n",
       "    <tr>\n",
       "      <th>1</th>\n",
       "      <td>Superb 4 Bedroom Semi Detached Duplex With Bq</td>\n",
       "      <td>4 BEDROOM HOUSE FOR RENT</td>\n",
       "      <td>5000000</td>\n",
       "      <td>0</td>\n",
       "      <td>1</td>\n",
       "      <td>0</td>\n",
       "      <td>4</td>\n",
       "      <td>4</td>\n",
       "      <td>5</td>\n",
       "      <td>Lekki</td>\n",
       "      <td>Other Lekki</td>\n",
       "    </tr>\n",
       "    <tr>\n",
       "      <th>2</th>\n",
       "      <td>Furnished 2 Bedroom Terrace Duplex For Rent !!!</td>\n",
       "      <td>2 BEDROOM HOUSE FOR RENT</td>\n",
       "      <td>3500000</td>\n",
       "      <td>1</td>\n",
       "      <td>0</td>\n",
       "      <td>0</td>\n",
       "      <td>2</td>\n",
       "      <td>3</td>\n",
       "      <td>3</td>\n",
       "      <td>Lekki</td>\n",
       "      <td>Osapa London</td>\n",
       "    </tr>\n",
       "    <tr>\n",
       "      <th>3</th>\n",
       "      <td>2 Bedroom Apartment For Rent</td>\n",
       "      <td>2 BEDROOM HOUSE FOR RENT</td>\n",
       "      <td>2700000</td>\n",
       "      <td>1</td>\n",
       "      <td>1</td>\n",
       "      <td>0</td>\n",
       "      <td>2</td>\n",
       "      <td>3</td>\n",
       "      <td>3</td>\n",
       "      <td>Lekki</td>\n",
       "      <td>Ologolo</td>\n",
       "    </tr>\n",
       "    <tr>\n",
       "      <th>4</th>\n",
       "      <td>4 Bedroom Terrace Duplex For Rent</td>\n",
       "      <td>4 BEDROOM HOUSE FOR RENT</td>\n",
       "      <td>4000000</td>\n",
       "      <td>1</td>\n",
       "      <td>0</td>\n",
       "      <td>0</td>\n",
       "      <td>4</td>\n",
       "      <td>5</td>\n",
       "      <td>5</td>\n",
       "      <td>Lekki</td>\n",
       "      <td>Chevron</td>\n",
       "    </tr>\n",
       "    <tr>\n",
       "      <th>...</th>\n",
       "      <td>...</td>\n",
       "      <td>...</td>\n",
       "      <td>...</td>\n",
       "      <td>...</td>\n",
       "      <td>...</td>\n",
       "      <td>...</td>\n",
       "      <td>...</td>\n",
       "      <td>...</td>\n",
       "      <td>...</td>\n",
       "      <td>...</td>\n",
       "      <td>...</td>\n",
       "    </tr>\n",
       "    <tr>\n",
       "      <th>53052</th>\n",
       "      <td>Newly Built 2bed Room Yaba</td>\n",
       "      <td>2 BEDROOM FLAT / APARTMENT FOR RENT</td>\n",
       "      <td>1500000</td>\n",
       "      <td>0</td>\n",
       "      <td>1</td>\n",
       "      <td>1</td>\n",
       "      <td>2</td>\n",
       "      <td>2</td>\n",
       "      <td>3</td>\n",
       "      <td>Yaba</td>\n",
       "      <td>Other Yaba</td>\n",
       "    </tr>\n",
       "    <tr>\n",
       "      <th>53054</th>\n",
       "      <td>Direct Brief Lovely And Clean With Neat Compou...</td>\n",
       "      <td>2 BEDROOM FLAT / APARTMENT FOR RENT</td>\n",
       "      <td>1500000</td>\n",
       "      <td>0</td>\n",
       "      <td>1</td>\n",
       "      <td>0</td>\n",
       "      <td>2</td>\n",
       "      <td>2</td>\n",
       "      <td>3</td>\n",
       "      <td>Yaba</td>\n",
       "      <td>Agoro</td>\n",
       "    </tr>\n",
       "    <tr>\n",
       "      <th>53059</th>\n",
       "      <td>Ensuit 2bed Flat</td>\n",
       "      <td>2 BEDROOM BLOCKS OF FLATS FOR RENT</td>\n",
       "      <td>1000000</td>\n",
       "      <td>0</td>\n",
       "      <td>1</td>\n",
       "      <td>0</td>\n",
       "      <td>2</td>\n",
       "      <td>2</td>\n",
       "      <td>3</td>\n",
       "      <td>Yaba</td>\n",
       "      <td>Alagomeji</td>\n",
       "    </tr>\n",
       "    <tr>\n",
       "      <th>53060</th>\n",
       "      <td>Ensuite 3 Bedroom With A B/q</td>\n",
       "      <td>3 BEDROOM FLAT / APARTMENT FOR RENT</td>\n",
       "      <td>1500000</td>\n",
       "      <td>0</td>\n",
       "      <td>0</td>\n",
       "      <td>1</td>\n",
       "      <td>3</td>\n",
       "      <td>3</td>\n",
       "      <td>4</td>\n",
       "      <td>Yaba</td>\n",
       "      <td>Onike</td>\n",
       "    </tr>\n",
       "    <tr>\n",
       "      <th>53068</th>\n",
       "      <td>Alone In The Compound Newly Renovated 3bedroom...</td>\n",
       "      <td>3 BEDROOM DETACHED BUNGALOW FOR RENT</td>\n",
       "      <td>950000</td>\n",
       "      <td>0</td>\n",
       "      <td>0</td>\n",
       "      <td>0</td>\n",
       "      <td>3</td>\n",
       "      <td>2</td>\n",
       "      <td>2</td>\n",
       "      <td>Yaba</td>\n",
       "      <td>Ebute-Metta</td>\n",
       "    </tr>\n",
       "  </tbody>\n",
       "</table>\n",
       "<p>38296 rows × 11 columns</p>\n",
       "</div>"
      ],
      "text/plain": [
       "                                                   Title  \\\n",
       "0      Newly Built 4 Bedroom Semi Detached House With Bq   \n",
       "1          Superb 4 Bedroom Semi Detached Duplex With Bq   \n",
       "2        Furnished 2 Bedroom Terrace Duplex For Rent !!!   \n",
       "3                           2 Bedroom Apartment For Rent   \n",
       "4                      4 Bedroom Terrace Duplex For Rent   \n",
       "...                                                  ...   \n",
       "53052                         Newly Built 2bed Room Yaba   \n",
       "53054  Direct Brief Lovely And Clean With Neat Compou...   \n",
       "53059                                   Ensuit 2bed Flat   \n",
       "53060                       Ensuite 3 Bedroom With A B/q   \n",
       "53068  Alone In The Compound Newly Renovated 3bedroom...   \n",
       "\n",
       "                                  More Info    Price  Serviced  Newly Built  \\\n",
       "0                  4 BEDROOM HOUSE FOR RENT  5000000         0            1   \n",
       "1                  4 BEDROOM HOUSE FOR RENT  5000000         0            1   \n",
       "2                  2 BEDROOM HOUSE FOR RENT  3500000         1            0   \n",
       "3                  2 BEDROOM HOUSE FOR RENT  2700000         1            1   \n",
       "4                  4 BEDROOM HOUSE FOR RENT  4000000         1            0   \n",
       "...                                     ...      ...       ...          ...   \n",
       "53052   2 BEDROOM FLAT / APARTMENT FOR RENT  1500000         0            1   \n",
       "53054   2 BEDROOM FLAT / APARTMENT FOR RENT  1500000         0            1   \n",
       "53059    2 BEDROOM BLOCKS OF FLATS FOR RENT  1000000         0            1   \n",
       "53060   3 BEDROOM FLAT / APARTMENT FOR RENT  1500000         0            0   \n",
       "53068  3 BEDROOM DETACHED BUNGALOW FOR RENT   950000         0            0   \n",
       "\n",
       "       Furnished Bedrooms Bathrooms Toilets   City  Neighborhood  \n",
       "0              0        4         4       5  Lekki        Agungi  \n",
       "1              0        4         4       5  Lekki   Other Lekki  \n",
       "2              0        2         3       3  Lekki  Osapa London  \n",
       "3              0        2         3       3  Lekki       Ologolo  \n",
       "4              0        4         5       5  Lekki       Chevron  \n",
       "...          ...      ...       ...     ...    ...           ...  \n",
       "53052          1        2         2       3   Yaba    Other Yaba  \n",
       "53054          0        2         2       3   Yaba         Agoro  \n",
       "53059          0        2         2       3   Yaba     Alagomeji  \n",
       "53060          1        3         3       4   Yaba         Onike  \n",
       "53068          0        3         2       2   Yaba   Ebute-Metta  \n",
       "\n",
       "[38296 rows x 11 columns]"
      ]
     },
     "execution_count": 36,
     "metadata": {},
     "output_type": "execute_result"
    }
   ],
   "source": [
    "trimmed_df = q1, q9 = df[\"Price\"].quantile([0.15,0.85])\n",
    "mask_df = df[\"Price\"].between(q1,q9)\n",
    "trimmed_df = df[mask_df]\n",
    "trimmed_df"
   ]
  },
  {
   "cell_type": "code",
   "execution_count": 37,
   "metadata": {},
   "outputs": [
    {
     "data": {
      "text/plain": [
       "array(['Agungi', 'Other Lekki', 'Osapa London', 'Ologolo', 'Chevron',\n",
       "       'Lekki Phase 1', 'Ikate', 'Ikota', 'Other Ikoyi', 'Banana Island',\n",
       "       'Parkview Estate', 'Old Ikoyi', 'Osborne Foreshore Estate',\n",
       "       'Dolphin Estate', 'Awolowo Road', 'Bourdillon', 'Opebi', 'Oregun',\n",
       "       'Adeniyi Jones', 'Other Ikeja', 'Allen Avenue', 'Toyin street',\n",
       "       'GRA', 'alausa', 'Awolowo way', 'Oniru', '1004',\n",
       "       'Other Victoria Island', 'Ligali Ayorinde',\n",
       "       'Victoria Island Extension', 'Adeola Odeku', 'Omole Phase 1',\n",
       "       'Isheri North', 'Magodo Gra Phase 1', 'Other Ojodu',\n",
       "       'Omole Phase 2', 'Ojodu Berger', 'Olowora', 'Gbagada Phase 1',\n",
       "       'Other Gbagada', 'Medina', 'Soluyi', 'Ifako', 'Millennium Ups',\n",
       "       'Oworonshoki', 'Gbagada Phase 2', 'Bode thomas', 'Other Surulere',\n",
       "       'Adelabu', 'Marsha', 'Aguda', 'Ogunlana', 'Ijesha', 'Lawanson',\n",
       "       'Randle Avenue', 'Ojuelegba', 'Lekki Scheme', 'Other Ajah',\n",
       "       'Badore', 'Sangotedo', 'Ado', 'Onike', 'Other Yaba', 'Akoka',\n",
       "       'Ebute-Metta', 'Agoro', 'Alagomeji', 'Sabo', 'Jibowu'],\n",
       "      dtype=object)"
      ]
     },
     "execution_count": 37,
     "metadata": {},
     "output_type": "execute_result"
    }
   ],
   "source": [
    "trimmed_df['Neighborhood'].unique()"
   ]
  },
  {
   "cell_type": "code",
   "execution_count": 38,
   "metadata": {},
   "outputs": [
    {
     "data": {
      "text/plain": [
       "Neighborhood\n",
       "Lekki Phase 1      4005\n",
       "Other Lekki        3250\n",
       "Chevron            2332\n",
       "Other Ajah         2077\n",
       "Ikate              1783\n",
       "                   ... \n",
       "Ligali Ayorinde      50\n",
       "Awolowo Road         50\n",
       "Oworonshoki          49\n",
       "Adeola Odeku         44\n",
       "Bourdillon           16\n",
       "Name: count, Length: 69, dtype: int64"
      ]
     },
     "execution_count": 38,
     "metadata": {},
     "output_type": "execute_result"
    }
   ],
   "source": [
    "records = trimmed_df[\"Neighborhood\"].value_counts()\n",
    "records"
   ]
  },
  {
   "cell_type": "code",
   "execution_count": 39,
   "metadata": {},
   "outputs": [],
   "source": [
    "# remove the Neighborhood with few entries\n",
    "trimmed_df = trimmed_df[~trimmed_df[\"Neighborhood\"].isin(records[records < 100].index)]"
   ]
  },
  {
   "cell_type": "code",
   "execution_count": 40,
   "metadata": {},
   "outputs": [
    {
     "data": {
      "text/plain": [
       "Neighborhood\n",
       "Lekki Phase 1               4005\n",
       "Other Lekki                 3250\n",
       "Chevron                     2332\n",
       "Other Ajah                  2077\n",
       "Ikate                       1783\n",
       "Ikota                       1708\n",
       "Osapa London                1608\n",
       "Oniru                       1042\n",
       "Sangotedo                   1034\n",
       "Agungi                       906\n",
       "Magodo Gra Phase 1           834\n",
       "Badore                       822\n",
       "Ifako                        743\n",
       "Ologolo                      685\n",
       "Other Surulere               678\n",
       "Isheri North                 637\n",
       "Other Yaba                   566\n",
       "Other Ikeja                  564\n",
       "Aguda                        560\n",
       "Alagomeji                    551\n",
       "Soluyi                       540\n",
       "Adeniyi Jones                489\n",
       "Akoka                        484\n",
       "Omole Phase 2                470\n",
       "Ojodu Berger                 458\n",
       "Other Ojodu                  433\n",
       "Lekki Scheme                 430\n",
       "Medina                       410\n",
       "Other Gbagada                391\n",
       "GRA                          376\n",
       "Onike                        363\n",
       "Ado                          363\n",
       "Millennium Ups               363\n",
       "Ebute-Metta                  347\n",
       "Omole Phase 1                325\n",
       "Allen Avenue                 324\n",
       "Sabo                         310\n",
       "Opebi                        303\n",
       "Bode thomas                  297\n",
       "Parkview Estate              296\n",
       "Ogunlana                     291\n",
       "Other Victoria Island        286\n",
       "Olowora                      262\n",
       "Marsha                       256\n",
       "Adelabu                      251\n",
       "Other Ikoyi                  233\n",
       "Agoro                        232\n",
       "Ijesha                       202\n",
       "Gbagada Phase 2              191\n",
       "Jibowu                       187\n",
       "Oregun                       179\n",
       "Awolowo way                  147\n",
       "Old Ikoyi                    139\n",
       "Toyin street                 139\n",
       "Gbagada Phase 1              137\n",
       "Lawanson                     120\n",
       "Randle Avenue                119\n",
       "Osborne Foreshore Estate     115\n",
       "Name: count, dtype: int64"
      ]
     },
     "execution_count": 40,
     "metadata": {},
     "output_type": "execute_result"
    }
   ],
   "source": [
    "trimmed_df[\"Neighborhood\"].value_counts()"
   ]
  },
  {
   "cell_type": "code",
   "execution_count": 41,
   "metadata": {},
   "outputs": [
    {
     "data": {
      "text/plain": [
       "<Axes: title={'center': 'Most Expensive Neighborhood in Lagos'}, xlabel='Neighborhood'>"
      ]
     },
     "execution_count": 41,
     "metadata": {},
     "output_type": "execute_result"
    },
    {
     "data": {
      "image/png": "[encoded data removed]",
      "text/plain": [
       "<Figure size 640x480 with 1 Axes>"
      ]
     },
     "metadata": {},
     "output_type": "display_data"
    }
   ],
   "source": [
    "# checking the chart again\n",
    "trimmed_df.groupby(\"Neighborhood\")[\"Price\"].mean().sort_values(ascending=False).head(20).plot(\n",
    "    kind='bar', title=\"Most Expensive Neighborhood in Lagos\"\n",
    "    )"
   ]
  },
  {
   "cell_type": "markdown",
   "metadata": {},
   "source": [
    "## **Modeling**\n",
    "## splitting data into x and y\n",
    "Build a predictive model to determine the risk of early-stage diabetes. We will use a Random Forest Classifier for this task."
   ]
  },
  {
   "cell_type": "code",
   "execution_count": 42,
   "metadata": {},
   "outputs": [],
   "source": [
    "# Log transformation to stabilize variance\n",
    "df['Price'] = np.log1p(df['Price'])"
   ]
  },
  {
   "cell_type": "code",
   "execution_count": 43,
   "metadata": {},
   "outputs": [],
   "source": [
    "# Removing irrelevant columns for modeling\n",
    "irrelevant_columns = ['Title', 'More Info', 'Neighborhood']\n",
    "df = df.drop(irrelevant_columns, axis=1)"
   ]
  },
  {
   "cell_type": "code",
   "execution_count": 44,
   "metadata": {},
   "outputs": [],
   "source": [
    "# Encode categorical variables\n",
    "label_encoder = LabelEncoder()\n",
    "for column in df.columns:\n",
    "    if df[column].dtype == \"object\":\n",
    "        df[column] = label_encoder.fit_transform(df[column])"
   ]
  },
  {
   "cell_type": "code",
   "execution_count": 45,
   "metadata": {},
   "outputs": [
    {
     "data": {
      "text/html": [
       "<div>\n",
       "<style scoped>\n",
       "    .dataframe tbody tr th:only-of-type {\n",
       "        vertical-align: middle;\n",
       "    }\n",
       "\n",
       "    .dataframe tbody tr th {\n",
       "        vertical-align: top;\n",
       "    }\n",
       "\n",
       "    .dataframe thead th {\n",
       "        text-align: right;\n",
       "    }\n",
       "</style>\n",
       "<table border=\"1\" class=\"dataframe\">\n",
       "  <thead>\n",
       "    <tr style=\"text-align: right;\">\n",
       "      <th></th>\n",
       "      <th>Price</th>\n",
       "      <th>Serviced</th>\n",
       "      <th>Newly Built</th>\n",
       "      <th>Furnished</th>\n",
       "      <th>Bedrooms</th>\n",
       "      <th>Bathrooms</th>\n",
       "      <th>Toilets</th>\n",
       "      <th>City</th>\n",
       "    </tr>\n",
       "  </thead>\n",
       "  <tbody>\n",
       "    <tr>\n",
       "      <th>0</th>\n",
       "      <td>15.424949</td>\n",
       "      <td>0</td>\n",
       "      <td>1</td>\n",
       "      <td>0</td>\n",
       "      <td>5</td>\n",
       "      <td>5</td>\n",
       "      <td>6</td>\n",
       "      <td>5</td>\n",
       "    </tr>\n",
       "    <tr>\n",
       "      <th>1</th>\n",
       "      <td>15.424949</td>\n",
       "      <td>0</td>\n",
       "      <td>1</td>\n",
       "      <td>0</td>\n",
       "      <td>5</td>\n",
       "      <td>5</td>\n",
       "      <td>6</td>\n",
       "      <td>5</td>\n",
       "    </tr>\n",
       "    <tr>\n",
       "      <th>2</th>\n",
       "      <td>15.068274</td>\n",
       "      <td>1</td>\n",
       "      <td>0</td>\n",
       "      <td>0</td>\n",
       "      <td>3</td>\n",
       "      <td>4</td>\n",
       "      <td>4</td>\n",
       "      <td>5</td>\n",
       "    </tr>\n",
       "    <tr>\n",
       "      <th>3</th>\n",
       "      <td>14.808763</td>\n",
       "      <td>1</td>\n",
       "      <td>1</td>\n",
       "      <td>0</td>\n",
       "      <td>3</td>\n",
       "      <td>4</td>\n",
       "      <td>4</td>\n",
       "      <td>5</td>\n",
       "    </tr>\n",
       "    <tr>\n",
       "      <th>4</th>\n",
       "      <td>15.201805</td>\n",
       "      <td>1</td>\n",
       "      <td>0</td>\n",
       "      <td>0</td>\n",
       "      <td>5</td>\n",
       "      <td>6</td>\n",
       "      <td>6</td>\n",
       "      <td>5</td>\n",
       "    </tr>\n",
       "  </tbody>\n",
       "</table>\n",
       "</div>"
      ],
      "text/plain": [
       "       Price  Serviced  Newly Built  Furnished  Bedrooms  Bathrooms  Toilets  \\\n",
       "0  15.424949         0            1          0         5          5        6   \n",
       "1  15.424949         0            1          0         5          5        6   \n",
       "2  15.068274         1            0          0         3          4        4   \n",
       "3  14.808763         1            1          0         3          4        4   \n",
       "4  15.201805         1            0          0         5          6        6   \n",
       "\n",
       "   City  \n",
       "0     5  \n",
       "1     5  \n",
       "2     5  \n",
       "3     5  \n",
       "4     5  "
      ]
     },
     "execution_count": 45,
     "metadata": {},
     "output_type": "execute_result"
    }
   ],
   "source": [
    "df.head()"
   ]
  },
  {
   "cell_type": "code",
   "execution_count": 46,
   "metadata": {},
   "outputs": [],
   "source": [
    "# Splitting the dataset into features and target variable\n",
    "X = df.drop(columns=['Price'])\n",
    "y = df['Price']"
   ]
  },
  {
   "cell_type": "code",
   "execution_count": 47,
   "metadata": {},
   "outputs": [
    {
     "data": {
      "text/html": [
       "<div>\n",
       "<style scoped>\n",
       "    .dataframe tbody tr th:only-of-type {\n",
       "        vertical-align: middle;\n",
       "    }\n",
       "\n",
       "    .dataframe tbody tr th {\n",
       "        vertical-align: top;\n",
       "    }\n",
       "\n",
       "    .dataframe thead th {\n",
       "        text-align: right;\n",
       "    }\n",
       "</style>\n",
       "<table border=\"1\" class=\"dataframe\">\n",
       "  <thead>\n",
       "    <tr style=\"text-align: right;\">\n",
       "      <th></th>\n",
       "      <th>Serviced</th>\n",
       "      <th>Newly Built</th>\n",
       "      <th>Furnished</th>\n",
       "      <th>Bedrooms</th>\n",
       "      <th>Bathrooms</th>\n",
       "      <th>Toilets</th>\n",
       "      <th>City</th>\n",
       "    </tr>\n",
       "  </thead>\n",
       "  <tbody>\n",
       "    <tr>\n",
       "      <th>0</th>\n",
       "      <td>0</td>\n",
       "      <td>1</td>\n",
       "      <td>0</td>\n",
       "      <td>5</td>\n",
       "      <td>5</td>\n",
       "      <td>6</td>\n",
       "      <td>5</td>\n",
       "    </tr>\n",
       "    <tr>\n",
       "      <th>1</th>\n",
       "      <td>0</td>\n",
       "      <td>1</td>\n",
       "      <td>0</td>\n",
       "      <td>5</td>\n",
       "      <td>5</td>\n",
       "      <td>6</td>\n",
       "      <td>5</td>\n",
       "    </tr>\n",
       "    <tr>\n",
       "      <th>2</th>\n",
       "      <td>1</td>\n",
       "      <td>0</td>\n",
       "      <td>0</td>\n",
       "      <td>3</td>\n",
       "      <td>4</td>\n",
       "      <td>4</td>\n",
       "      <td>5</td>\n",
       "    </tr>\n",
       "    <tr>\n",
       "      <th>3</th>\n",
       "      <td>1</td>\n",
       "      <td>1</td>\n",
       "      <td>0</td>\n",
       "      <td>3</td>\n",
       "      <td>4</td>\n",
       "      <td>4</td>\n",
       "      <td>5</td>\n",
       "    </tr>\n",
       "    <tr>\n",
       "      <th>4</th>\n",
       "      <td>1</td>\n",
       "      <td>0</td>\n",
       "      <td>0</td>\n",
       "      <td>5</td>\n",
       "      <td>6</td>\n",
       "      <td>6</td>\n",
       "      <td>5</td>\n",
       "    </tr>\n",
       "  </tbody>\n",
       "</table>\n",
       "</div>"
      ],
      "text/plain": [
       "   Serviced  Newly Built  Furnished  Bedrooms  Bathrooms  Toilets  City\n",
       "0         0            1          0         5          5        6     5\n",
       "1         0            1          0         5          5        6     5\n",
       "2         1            0          0         3          4        4     5\n",
       "3         1            1          0         3          4        4     5\n",
       "4         1            0          0         5          6        6     5"
      ]
     },
     "execution_count": 47,
     "metadata": {},
     "output_type": "execute_result"
    }
   ],
   "source": [
    "X.head()"
   ]
  },
  {
   "cell_type": "markdown",
   "metadata": {},
   "source": []
  },
  {
   "cell_type": "code",
   "execution_count": 48,
   "metadata": {},
   "outputs": [
    {
     "data": {
      "text/plain": [
       "0    15.424949\n",
       "1    15.424949\n",
       "2    15.068274\n",
       "3    14.808763\n",
       "4    15.201805\n",
       "Name: Price, dtype: float64"
      ]
     },
     "execution_count": 48,
     "metadata": {},
     "output_type": "execute_result"
    }
   ],
   "source": [
    "y.head()"
   ]
  },
  {
   "cell_type": "code",
   "execution_count": 49,
   "metadata": {},
   "outputs": [
    {
     "name": "stdout",
     "output_type": "stream",
     "text": [
      "(53070, 7)\n",
      "(53070,)\n"
     ]
    }
   ],
   "source": [
    "print(X.shape) \n",
    "print(y.shape)"
   ]
  },
  {
   "cell_type": "code",
   "execution_count": 50,
   "metadata": {},
   "outputs": [],
   "source": [
    "# Splitting into training and testing sets\n",
    "X_train, X_test, y_train, y_test = train_test_split(X, y, test_size=0.2, random_state=42)"
   ]
  },
  {
   "cell_type": "code",
   "execution_count": 51,
   "metadata": {},
   "outputs": [],
   "source": [
    "# Feature Scaling with Power Transformation\n",
    "scaler = PowerTransformer()\n",
    "X_train_scaled = scaler.fit_transform(X_train)\n",
    "X_test_scaled = scaler.transform(X_test)"
   ]
  },
  {
   "cell_type": "code",
   "execution_count": 52,
   "metadata": {},
   "outputs": [],
   "source": [
    "# Detecting and Handling Outliers\n",
    "numeric_columns = df.select_dtypes(include=[np.number]).columns\n",
    "df[numeric_columns] = df[numeric_columns][\n",
    "    (np.abs(df[numeric_columns] - df[numeric_columns].mean()) / df[numeric_columns].std()) < 3]\n",
    "df.dropna(inplace=True)"
   ]
  },
  {
   "cell_type": "code",
   "execution_count": 53,
   "metadata": {},
   "outputs": [
    {
     "data": {
      "text/html": [
       "<style>#sk-container-id-1 {\n",
       "  /* Definition of color scheme common for light and dark mode */\n",
       "  --sklearn-color-text: #000;\n",
       "  --sklearn-color-text-muted: #666;\n",
       "  --sklearn-color-line: gray;\n",
       "  /* Definition of color scheme for unfitted estimators */\n",
       "  --sklearn-color-unfitted-level-0: #fff5e6;\n",
       "  --sklearn-color-unfitted-level-1: #f6e4d2;\n",
       "  --sklearn-color-unfitted-level-2: #ffe0b3;\n",
       "  --sklearn-color-unfitted-level-3: chocolate;\n",
       "  /* Definition of color scheme for fitted estimators */\n",
       "  --sklearn-color-fitted-level-0: #f0f8ff;\n",
       "  --sklearn-color-fitted-level-1: #d4ebff;\n",
       "  --sklearn-color-fitted-level-2: #b3dbfd;\n",
       "  --sklearn-color-fitted-level-3: cornflowerblue;\n",
       "\n",
       "  /* Specific color for light theme */\n",
       "  --sklearn-color-text-on-default-background: var(--sg-text-color, var(--theme-code-foreground, var(--jp-content-font-color1, black)));\n",
       "  --sklearn-color-background: var(--sg-background-color, var(--theme-background, var(--jp-layout-color0, white)));\n",
       "  --sklearn-color-border-box: var(--sg-text-color, var(--theme-code-foreground, var(--jp-content-font-color1, black)));\n",
       "  --sklearn-color-icon: #696969;\n",
       "\n",
       "  @media (prefers-color-scheme: dark) {\n",
       "    /* Redefinition of color scheme for dark theme */\n",
       "    --sklearn-color-text-on-default-background: var(--sg-text-color, var(--theme-code-foreground, var(--jp-content-font-color1, white)));\n",
       "    --sklearn-color-background: var(--sg-background-color, var(--theme-background, var(--jp-layout-color0, #111)));\n",
       "    --sklearn-color-border-box: var(--sg-text-color, var(--theme-code-foreground, var(--jp-content-font-color1, white)));\n",
       "    --sklearn-color-icon: #878787;\n",
       "  }\n",
       "}\n",
       "\n",
       "#sk-container-id-1 {\n",
       "  color: var(--sklearn-color-text);\n",
       "}\n",
       "\n",
       "#sk-container-id-1 pre {\n",
       "  padding: 0;\n",
       "}\n",
       "\n",
       "#sk-container-id-1 input.sk-hidden--visually {\n",
       "  border: 0;\n",
       "  clip: rect(1px 1px 1px 1px);\n",
       "  clip: rect(1px, 1px, 1px, 1px);\n",
       "  height: 1px;\n",
       "  margin: -1px;\n",
       "  overflow: hidden;\n",
       "  padding: 0;\n",
       "  position: absolute;\n",
       "  width: 1px;\n",
       "}\n",
       "\n",
       "#sk-container-id-1 div.sk-dashed-wrapped {\n",
       "  border: 1px dashed var(--sklearn-color-line);\n",
       "  margin: 0 0.4em 0.5em 0.4em;\n",
       "  box-sizing: border-box;\n",
       "  padding-bottom: 0.4em;\n",
       "  background-color: var(--sklearn-color-background);\n",
       "}\n",
       "\n",
       "#sk-container-id-1 div.sk-container {\n",
       "  /* jupyter's `normalize.less` sets `[hidden] { display: none; }`\n",
       "     but bootstrap.min.css set `[hidden] { display: none !important; }`\n",
       "     so we also need the `!important` here to be able to override the\n",
       "     default hidden behavior on the sphinx rendered scikit-learn.org.\n",
       "     See: https://github.com/scikit-learn/scikit-learn/issues/21755 */\n",
       "  display: inline-block !important;\n",
       "  position: relative;\n",
       "}\n",
       "\n",
       "#sk-container-id-1 div.sk-text-repr-fallback {\n",
       "  display: none;\n",
       "}\n",
       "\n",
       "div.sk-parallel-item,\n",
       "div.sk-serial,\n",
       "div.sk-item {\n",
       "  /* draw centered vertical line to link estimators */\n",
       "  background-image: linear-gradient(var(--sklearn-color-text-on-default-background), var(--sklearn-color-text-on-default-background));\n",
       "  background-size: 2px 100%;\n",
       "  background-repeat: no-repeat;\n",
       "  background-position: center center;\n",
       "}\n",
       "\n",
       "/* Parallel-specific style estimator block */\n",
       "\n",
       "#sk-container-id-1 div.sk-parallel-item::after {\n",
       "  content: \"\";\n",
       "  width: 100%;\n",
       "  border-bottom: 2px solid var(--sklearn-color-text-on-default-background);\n",
       "  flex-grow: 1;\n",
       "}\n",
       "\n",
       "#sk-container-id-1 div.sk-parallel {\n",
       "  display: flex;\n",
       "  align-items: stretch;\n",
       "  justify-content: center;\n",
       "  background-color: var(--sklearn-color-background);\n",
       "  position: relative;\n",
       "}\n",
       "\n",
       "#sk-container-id-1 div.sk-parallel-item {\n",
       "  display: flex;\n",
       "  flex-direction: column;\n",
       "}\n",
       "\n",
       "#sk-container-id-1 div.sk-parallel-item:first-child::after {\n",
       "  align-self: flex-end;\n",
       "  width: 50%;\n",
       "}\n",
       "\n",
       "#sk-container-id-1 div.sk-parallel-item:last-child::after {\n",
       "  align-self: flex-start;\n",
       "  width: 50%;\n",
       "}\n",
       "\n",
       "#sk-container-id-1 div.sk-parallel-item:only-child::after {\n",
       "  width: 0;\n",
       "}\n",
       "\n",
       "/* Serial-specific style estimator block */\n",
       "\n",
       "#sk-container-id-1 div.sk-serial {\n",
       "  display: flex;\n",
       "  flex-direction: column;\n",
       "  align-items: center;\n",
       "  background-color: var(--sklearn-color-background);\n",
       "  padding-right: 1em;\n",
       "  padding-left: 1em;\n",
       "}\n",
       "\n",
       "\n",
       "/* Toggleable style: style used for estimator/Pipeline/ColumnTransformer box that is\n",
       "clickable and can be expanded/collapsed.\n",
       "- Pipeline and ColumnTransformer use this feature and define the default style\n",
       "- Estimators will overwrite some part of the style using the `sk-estimator` class\n",
       "*/\n",
       "\n",
       "/* Pipeline and ColumnTransformer style (default) */\n",
       "\n",
       "#sk-container-id-1 div.sk-toggleable {\n",
       "  /* Default theme specific background. It is overwritten whether we have a\n",
       "  specific estimator or a Pipeline/ColumnTransformer */\n",
       "  background-color: var(--sklearn-color-background);\n",
       "}\n",
       "\n",
       "/* Toggleable label */\n",
       "#sk-container-id-1 label.sk-toggleable__label {\n",
       "  cursor: pointer;\n",
       "  display: flex;\n",
       "  width: 100%;\n",
       "  margin-bottom: 0;\n",
       "  padding: 0.5em;\n",
       "  box-sizing: border-box;\n",
       "  text-align: center;\n",
       "  align-items: start;\n",
       "  justify-content: space-between;\n",
       "  gap: 0.5em;\n",
       "}\n",
       "\n",
       "#sk-container-id-1 label.sk-toggleable__label .caption {\n",
       "  font-size: 0.6rem;\n",
       "  font-weight: lighter;\n",
       "  color: var(--sklearn-color-text-muted);\n",
       "}\n",
       "\n",
       "#sk-container-id-1 label.sk-toggleable__label-arrow:before {\n",
       "  /* Arrow on the left of the label */\n",
       "  content: \"▸\";\n",
       "  float: left;\n",
       "  margin-right: 0.25em;\n",
       "  color: var(--sklearn-color-icon);\n",
       "}\n",
       "\n",
       "#sk-container-id-1 label.sk-toggleable__label-arrow:hover:before {\n",
       "  color: var(--sklearn-color-text);\n",
       "}\n",
       "\n",
       "/* Toggleable content - dropdown */\n",
       "\n",
       "#sk-container-id-1 div.sk-toggleable__content {\n",
       "  max-height: 0;\n",
       "  max-width: 0;\n",
       "  overflow: hidden;\n",
       "  text-align: left;\n",
       "  /* unfitted */\n",
       "  background-color: var(--sklearn-color-unfitted-level-0);\n",
       "}\n",
       "\n",
       "#sk-container-id-1 div.sk-toggleable__content.fitted {\n",
       "  /* fitted */\n",
       "  background-color: var(--sklearn-color-fitted-level-0);\n",
       "}\n",
       "\n",
       "#sk-container-id-1 div.sk-toggleable__content pre {\n",
       "  margin: 0.2em;\n",
       "  border-radius: 0.25em;\n",
       "  color: var(--sklearn-color-text);\n",
       "  /* unfitted */\n",
       "  background-color: var(--sklearn-color-unfitted-level-0);\n",
       "}\n",
       "\n",
       "#sk-container-id-1 div.sk-toggleable__content.fitted pre {\n",
       "  /* unfitted */\n",
       "  background-color: var(--sklearn-color-fitted-level-0);\n",
       "}\n",
       "\n",
       "#sk-container-id-1 input.sk-toggleable__control:checked~div.sk-toggleable__content {\n",
       "  /* Expand drop-down */\n",
       "  max-height: 200px;\n",
       "  max-width: 100%;\n",
       "  overflow: auto;\n",
       "}\n",
       "\n",
       "#sk-container-id-1 input.sk-toggleable__control:checked~label.sk-toggleable__label-arrow:before {\n",
       "  content: \"▾\";\n",
       "}\n",
       "\n",
       "/* Pipeline/ColumnTransformer-specific style */\n",
       "\n",
       "#sk-container-id-1 div.sk-label input.sk-toggleable__control:checked~label.sk-toggleable__label {\n",
       "  color: var(--sklearn-color-text);\n",
       "  background-color: var(--sklearn-color-unfitted-level-2);\n",
       "}\n",
       "\n",
       "#sk-container-id-1 div.sk-label.fitted input.sk-toggleable__control:checked~label.sk-toggleable__label {\n",
       "  background-color: var(--sklearn-color-fitted-level-2);\n",
       "}\n",
       "\n",
       "/* Estimator-specific style */\n",
       "\n",
       "/* Colorize estimator box */\n",
       "#sk-container-id-1 div.sk-estimator input.sk-toggleable__control:checked~label.sk-toggleable__label {\n",
       "  /* unfitted */\n",
       "  background-color: var(--sklearn-color-unfitted-level-2);\n",
       "}\n",
       "\n",
       "#sk-container-id-1 div.sk-estimator.fitted input.sk-toggleable__control:checked~label.sk-toggleable__label {\n",
       "  /* fitted */\n",
       "  background-color: var(--sklearn-color-fitted-level-2);\n",
       "}\n",
       "\n",
       "#sk-container-id-1 div.sk-label label.sk-toggleable__label,\n",
       "#sk-container-id-1 div.sk-label label {\n",
       "  /* The background is the default theme color */\n",
       "  color: var(--sklearn-color-text-on-default-background);\n",
       "}\n",
       "\n",
       "/* On hover, darken the color of the background */\n",
       "#sk-container-id-1 div.sk-label:hover label.sk-toggleable__label {\n",
       "  color: var(--sklearn-color-text);\n",
       "  background-color: var(--sklearn-color-unfitted-level-2);\n",
       "}\n",
       "\n",
       "/* Label box, darken color on hover, fitted */\n",
       "#sk-container-id-1 div.sk-label.fitted:hover label.sk-toggleable__label.fitted {\n",
       "  color: var(--sklearn-color-text);\n",
       "  background-color: var(--sklearn-color-fitted-level-2);\n",
       "}\n",
       "\n",
       "/* Estimator label */\n",
       "\n",
       "#sk-container-id-1 div.sk-label label {\n",
       "  font-family: monospace;\n",
       "  font-weight: bold;\n",
       "  display: inline-block;\n",
       "  line-height: 1.2em;\n",
       "}\n",
       "\n",
       "#sk-container-id-1 div.sk-label-container {\n",
       "  text-align: center;\n",
       "}\n",
       "\n",
       "/* Estimator-specific */\n",
       "#sk-container-id-1 div.sk-estimator {\n",
       "  font-family: monospace;\n",
       "  border: 1px dotted var(--sklearn-color-border-box);\n",
       "  border-radius: 0.25em;\n",
       "  box-sizing: border-box;\n",
       "  margin-bottom: 0.5em;\n",
       "  /* unfitted */\n",
       "  background-color: var(--sklearn-color-unfitted-level-0);\n",
       "}\n",
       "\n",
       "#sk-container-id-1 div.sk-estimator.fitted {\n",
       "  /* fitted */\n",
       "  background-color: var(--sklearn-color-fitted-level-0);\n",
       "}\n",
       "\n",
       "/* on hover */\n",
       "#sk-container-id-1 div.sk-estimator:hover {\n",
       "  /* unfitted */\n",
       "  background-color: var(--sklearn-color-unfitted-level-2);\n",
       "}\n",
       "\n",
       "#sk-container-id-1 div.sk-estimator.fitted:hover {\n",
       "  /* fitted */\n",
       "  background-color: var(--sklearn-color-fitted-level-2);\n",
       "}\n",
       "\n",
       "/* Specification for estimator info (e.g. \"i\" and \"?\") */\n",
       "\n",
       "/* Common style for \"i\" and \"?\" */\n",
       "\n",
       ".sk-estimator-doc-link,\n",
       "a:link.sk-estimator-doc-link,\n",
       "a:visited.sk-estimator-doc-link {\n",
       "  float: right;\n",
       "  font-size: smaller;\n",
       "  line-height: 1em;\n",
       "  font-family: monospace;\n",
       "  background-color: var(--sklearn-color-background);\n",
       "  border-radius: 1em;\n",
       "  height: 1em;\n",
       "  width: 1em;\n",
       "  text-decoration: none !important;\n",
       "  margin-left: 0.5em;\n",
       "  text-align: center;\n",
       "  /* unfitted */\n",
       "  border: var(--sklearn-color-unfitted-level-1) 1pt solid;\n",
       "  color: var(--sklearn-color-unfitted-level-1);\n",
       "}\n",
       "\n",
       ".sk-estimator-doc-link.fitted,\n",
       "a:link.sk-estimator-doc-link.fitted,\n",
       "a:visited.sk-estimator-doc-link.fitted {\n",
       "  /* fitted */\n",
       "  border: var(--sklearn-color-fitted-level-1) 1pt solid;\n",
       "  color: var(--sklearn-color-fitted-level-1);\n",
       "}\n",
       "\n",
       "/* On hover */\n",
       "div.sk-estimator:hover .sk-estimator-doc-link:hover,\n",
       ".sk-estimator-doc-link:hover,\n",
       "div.sk-label-container:hover .sk-estimator-doc-link:hover,\n",
       ".sk-estimator-doc-link:hover {\n",
       "  /* unfitted */\n",
       "  background-color: var(--sklearn-color-unfitted-level-3);\n",
       "  color: var(--sklearn-color-background);\n",
       "  text-decoration: none;\n",
       "}\n",
       "\n",
       "div.sk-estimator.fitted:hover .sk-estimator-doc-link.fitted:hover,\n",
       ".sk-estimator-doc-link.fitted:hover,\n",
       "div.sk-label-container:hover .sk-estimator-doc-link.fitted:hover,\n",
       ".sk-estimator-doc-link.fitted:hover {\n",
       "  /* fitted */\n",
       "  background-color: var(--sklearn-color-fitted-level-3);\n",
       "  color: var(--sklearn-color-background);\n",
       "  text-decoration: none;\n",
       "}\n",
       "\n",
       "/* Span, style for the box shown on hovering the info icon */\n",
       ".sk-estimator-doc-link span {\n",
       "  display: none;\n",
       "  z-index: 9999;\n",
       "  position: relative;\n",
       "  font-weight: normal;\n",
       "  right: .2ex;\n",
       "  padding: .5ex;\n",
       "  margin: .5ex;\n",
       "  width: min-content;\n",
       "  min-width: 20ex;\n",
       "  max-width: 50ex;\n",
       "  color: var(--sklearn-color-text);\n",
       "  box-shadow: 2pt 2pt 4pt #999;\n",
       "  /* unfitted */\n",
       "  background: var(--sklearn-color-unfitted-level-0);\n",
       "  border: .5pt solid var(--sklearn-color-unfitted-level-3);\n",
       "}\n",
       "\n",
       ".sk-estimator-doc-link.fitted span {\n",
       "  /* fitted */\n",
       "  background: var(--sklearn-color-fitted-level-0);\n",
       "  border: var(--sklearn-color-fitted-level-3);\n",
       "}\n",
       "\n",
       ".sk-estimator-doc-link:hover span {\n",
       "  display: block;\n",
       "}\n",
       "\n",
       "/* \"?\"-specific style due to the `<a>` HTML tag */\n",
       "\n",
       "#sk-container-id-1 a.estimator_doc_link {\n",
       "  float: right;\n",
       "  font-size: 1rem;\n",
       "  line-height: 1em;\n",
       "  font-family: monospace;\n",
       "  background-color: var(--sklearn-color-background);\n",
       "  border-radius: 1rem;\n",
       "  height: 1rem;\n",
       "  width: 1rem;\n",
       "  text-decoration: none;\n",
       "  /* unfitted */\n",
       "  color: var(--sklearn-color-unfitted-level-1);\n",
       "  border: var(--sklearn-color-unfitted-level-1) 1pt solid;\n",
       "}\n",
       "\n",
       "#sk-container-id-1 a.estimator_doc_link.fitted {\n",
       "  /* fitted */\n",
       "  border: var(--sklearn-color-fitted-level-1) 1pt solid;\n",
       "  color: var(--sklearn-color-fitted-level-1);\n",
       "}\n",
       "\n",
       "/* On hover */\n",
       "#sk-container-id-1 a.estimator_doc_link:hover {\n",
       "  /* unfitted */\n",
       "  background-color: var(--sklearn-color-unfitted-level-3);\n",
       "  color: var(--sklearn-color-background);\n",
       "  text-decoration: none;\n",
       "}\n",
       "\n",
       "#sk-container-id-1 a.estimator_doc_link.fitted:hover {\n",
       "  /* fitted */\n",
       "  background-color: var(--sklearn-color-fitted-level-3);\n",
       "}\n",
       "</style><div id=\"sk-container-id-1\" class=\"sk-top-container\"><div class=\"sk-text-repr-fallback\"><pre>GridSearchCV(cv=3, estimator=RandomForestRegressor(random_state=42),\n",
       "             param_grid={&#x27;max_depth&#x27;: [10, 20], &#x27;min_samples_split&#x27;: [2, 5],\n",
       "                         &#x27;n_estimators&#x27;: [100, 200]},\n",
       "             scoring=&#x27;r2&#x27;)</pre><b>In a Jupyter environment, please rerun this cell to show the HTML representation or trust the notebook. <br />On GitHub, the HTML representation is unable to render, please try loading this page with nbviewer.org.</b></div><div class=\"sk-container\" hidden><div class=\"sk-item sk-dashed-wrapped\"><div class=\"sk-label-container\"><div class=\"sk-label fitted sk-toggleable\"><input class=\"sk-toggleable__control sk-hidden--visually\" id=\"sk-estimator-id-1\" type=\"checkbox\" ><label for=\"sk-estimator-id-1\" class=\"sk-toggleable__label fitted sk-toggleable__label-arrow\"><div><div>GridSearchCV</div></div><div><a class=\"sk-estimator-doc-link fitted\" rel=\"noreferrer\" target=\"_blank\" href=\"https://scikit-learn.org/1.6/modules/generated/sklearn.model_selection.GridSearchCV.html\">?<span>Documentation for GridSearchCV</span></a><span class=\"sk-estimator-doc-link fitted\">i<span>Fitted</span></span></div></label><div class=\"sk-toggleable__content fitted\"><pre>GridSearchCV(cv=3, estimator=RandomForestRegressor(random_state=42),\n",
       "             param_grid={&#x27;max_depth&#x27;: [10, 20], &#x27;min_samples_split&#x27;: [2, 5],\n",
       "                         &#x27;n_estimators&#x27;: [100, 200]},\n",
       "             scoring=&#x27;r2&#x27;)</pre></div> </div></div><div class=\"sk-parallel\"><div class=\"sk-parallel-item\"><div class=\"sk-item\"><div class=\"sk-label-container\"><div class=\"sk-label fitted sk-toggleable\"><input class=\"sk-toggleable__control sk-hidden--visually\" id=\"sk-estimator-id-2\" type=\"checkbox\" ><label for=\"sk-estimator-id-2\" class=\"sk-toggleable__label fitted sk-toggleable__label-arrow\"><div><div>best_estimator_: RandomForestRegressor</div></div></label><div class=\"sk-toggleable__content fitted\"><pre>RandomForestRegressor(max_depth=10, min_samples_split=5, n_estimators=200,\n",
       "                      random_state=42)</pre></div> </div></div><div class=\"sk-serial\"><div class=\"sk-item\"><div class=\"sk-estimator fitted sk-toggleable\"><input class=\"sk-toggleable__control sk-hidden--visually\" id=\"sk-estimator-id-3\" type=\"checkbox\" ><label for=\"sk-estimator-id-3\" class=\"sk-toggleable__label fitted sk-toggleable__label-arrow\"><div><div>RandomForestRegressor</div></div><div><a class=\"sk-estimator-doc-link fitted\" rel=\"noreferrer\" target=\"_blank\" href=\"https://scikit-learn.org/1.6/modules/generated/sklearn.ensemble.RandomForestRegressor.html\">?<span>Documentation for RandomForestRegressor</span></a></div></label><div class=\"sk-toggleable__content fitted\"><pre>RandomForestRegressor(max_depth=10, min_samples_split=5, n_estimators=200,\n",
       "                      random_state=42)</pre></div> </div></div></div></div></div></div></div></div></div>"
      ],
      "text/plain": [
       "GridSearchCV(cv=3, estimator=RandomForestRegressor(random_state=42),\n",
       "             param_grid={'max_depth': [10, 20], 'min_samples_split': [2, 5],\n",
       "                         'n_estimators': [100, 200]},\n",
       "             scoring='r2')"
      ]
     },
     "execution_count": 53,
     "metadata": {},
     "output_type": "execute_result"
    }
   ],
   "source": [
    "# Hyperparameter tuning for Random Forest\n",
    "rf_params = {'n_estimators': [100, 200], 'max_depth': [10, 20], 'min_samples_split': [2, 5]}\n",
    "rf_grid = GridSearchCV(RandomForestRegressor(random_state=42), rf_params, cv=3, scoring='r2')\n",
    "rf_grid.fit(X_train_scaled, y_train)"
   ]
  },
  {
   "cell_type": "code",
   "execution_count": 54,
   "metadata": {},
   "outputs": [],
   "source": [
    "# Model Training\n",
    "models = {\n",
    "    \"Linear Regression\": LinearRegression(),\n",
    "    \"Random Forest Regressor\": rf_grid.best_estimator_,\n",
    "    \"Gradient Boosting Regressor\": GradientBoostingRegressor(n_estimators=200, learning_rate=0.05, random_state=42),\n",
    "    \"Support Vector Regressor\": SVR(C=100, epsilon=0.1),\n",
    "}"
   ]
  },
  {
   "cell_type": "code",
   "execution_count": 55,
   "metadata": {},
   "outputs": [],
   "source": [
    "results = {}"
   ]
  },
  {
   "cell_type": "code",
   "execution_count": 56,
   "metadata": {},
   "outputs": [],
   "source": [
    "for name, model in models.items():\n",
    "    model.fit(X_train_scaled, y_train)\n",
    "    y_pred = model.predict(X_test_scaled)\n",
    "    results[name] = {\n",
    "        \"MAE\": mean_absolute_error(y_test, y_pred),\n",
    "        \"MSE\": mean_squared_error(y_test, y_pred),\n",
    "        \"RMSE\": np.sqrt(mean_squared_error(y_test, y_pred)),\n",
    "        \"R2 Score\": r2_score(y_test, y_pred)\n",
    "    }"
   ]
  },
  {
   "cell_type": "markdown",
   "metadata": {},
   "source": [
    "## Results"
   ]
  },
  {
   "cell_type": "code",
   "execution_count": 57,
   "metadata": {},
   "outputs": [
    {
     "name": "stdout",
     "output_type": "stream",
     "text": [
      "                                  MAE       MSE      RMSE  R2 Score\n",
      "Linear Regression            0.745106  1.171000  1.082128  0.220524\n",
      "Random Forest Regressor      0.444952  0.634580  0.796605  0.577592\n",
      "Gradient Boosting Regressor  0.448631  0.632979  0.795600  0.578658\n",
      "Support Vector Regressor     0.457829  0.663811  0.814746  0.558134\n"
     ]
    }
   ],
   "source": [
    "# Display results\n",
    "results_df = pd.DataFrame(results).T\n",
    "print(results_df)"
   ]
  },
  {
   "cell_type": "code",
   "execution_count": 58,
   "metadata": {},
   "outputs": [
    {
     "data": {
      "image/png": "[encoded data removed]",
      "text/plain": [
       "<Figure size 1000x500 with 1 Axes>"
      ]
     },
     "metadata": {},
     "output_type": "display_data"
    }
   ],
   "source": [
    "# Visualizing Model Performance\n",
    "plt.figure(figsize=(10, 5))\n",
    "sns.barplot(x=results_df.index, y=results_df[\"R2 Score\"], palette=\"viridis\")\n",
    "plt.title(\"Model Performance Comparison\")\n",
    "plt.xlabel(\"Models\")\n",
    "plt.ylabel(\"R2 Score\")\n",
    "plt.xticks(rotation=45)\n",
    "plt.show()"
   ]
  },
  {
   "cell_type": "code",
   "execution_count": 59,
   "metadata": {},
   "outputs": [
    {
     "name": "stdout",
     "output_type": "stream",
     "text": [
      "The best-performing model is Gradient Boosting Regressor with an R2 score of 0.5787.\n",
      "Future improvements can include incorporating additional features,\n",
      "further hyperparameter tuning, and utilizing deep learning models for better accuracy.\n"
     ]
    }
   ],
   "source": [
    "# Conclusion and Recommendation\n",
    "best_model_name = results_df[\"R2 Score\"].idxmax()\n",
    "best_pipeline = Pipeline([\n",
    "    (\"powerTransformer\", PowerTransformer()),\n",
    "    (best_model_name.lower().replace(\" \", \"\"), models[best_model_name])\n",
    "])\n",
    "best_pipeline.fit(X_train, y_train)\n",
    "print(f\"The best-performing model is {best_model_name} with an R2 score of {results_df.loc[best_model_name, 'R2 Score']:.4f}.\")\n",
    "print(\"Future improvements can include incorporating additional features,\\n\"\n",
    "      \"further hyperparameter tuning, and utilizing deep learning models for better accuracy.\")\n"
   ]
  },
  {
   "cell_type": "markdown",
   "metadata": {},
   "source": [
    "### Communicating Feature Importance\n",
    "10 most important features affecting housing prices."
   ]
  },
  {
   "cell_type": "code",
   "execution_count": 60,
   "metadata": {},
   "outputs": [
    {
     "name": "stdout",
     "output_type": "stream",
     "text": [
      "Furnished      0.000237\n",
      "Newly Built    0.001586\n",
      "Bathrooms      0.004039\n",
      "Serviced       0.021215\n",
      "Toilets        0.036799\n",
      "City           0.370092\n",
      "Bedrooms       0.566033\n",
      "dtype: float64\n"
     ]
    }
   ],
   "source": [
    "# Feature Importance for Gradient Boosting or Random Forest\n",
    "if hasattr(models[best_model_name], \"feature_importances_\"):\n",
    "    feature_importance = models[best_model_name].feature_importances_\n",
    "    features = X_train.columns\n",
    "    feat_imp = pd.Series(feature_importance, index=features).sort_values(ascending=True)\n",
    "    print(feat_imp)"
   ]
  },
  {
   "cell_type": "code",
   "execution_count": 61,
   "metadata": {},
   "outputs": [
    {
     "data": {
      "image/png": "[encoded data removed]",
      "text/plain": [
       "<Figure size 1000x500 with 1 Axes>"
      ]
     },
     "metadata": {},
     "output_type": "display_data"
    }
   ],
   "source": [
    "# Visualizing Feature Importance\n",
    "plt.figure(figsize=(10, 5))\n",
    "feat_imp.tail(10).plot(kind=\"barh\")\n",
    "plt.xlabel(\"Importance [USD]\")\n",
    "plt.ylabel(\"Feature\")\n",
    "plt.title(\"Feature Importance for Apartment Price\")\n",
    "plt.show()"
   ]
  },
  {
   "cell_type": "markdown",
   "metadata": {},
   "source": [
    "## Communicate Results\n",
    "Testing the model prediction using  best model "
   ]
  },
  {
   "cell_type": "code",
   "execution_count": 62,
   "metadata": {},
   "outputs": [],
   "source": [
    "def make_prediction(Serviced, Newly_Built, Furnished, Bedrooms, Bathrooms, Toilets, City):\n",
    "    # Identify city columns from training data\n",
    "    city_columns = [col for col in X_train.columns if \"City_\" in col]\n",
    "    city_data = {col: 0 for col in city_columns}  # Initialize all cities as 0\n",
    "    \n",
    "    city_column = f\"City_{City}\"  # Format the selected city\n",
    "    if city_column in city_data:\n",
    "        city_data[city_column] = 1  # Set the selected city to 1\n",
    "\n",
    "    # Create DataFrame with necessary fields\n",
    "    data = pd.DataFrame({\n",
    "        \"Serviced\": [Serviced],\n",
    "        \"Newly Built\": [Newly_Built],\n",
    "        \"Furnished\": [Furnished],\n",
    "        \"Bedrooms\": [Bedrooms],\n",
    "        \"Bathrooms\": [Bathrooms],\n",
    "        \"Toilets\": [Toilets],\n",
    "        **city_data  # Merge city encoding\n",
    "    })\n",
    "\n",
    "    # Ensure consistency with training data\n",
    "    missing_cols = set(X_train.columns) - set(data.columns)\n",
    "    for col in missing_cols:\n",
    "        data[col] = 0  # Add missing columns with 0 values\n",
    "\n",
    "    # Reorder columns\n",
    "    data = data[X_train.columns]\n",
    "\n",
    "    # Make prediction\n",
    "    prediction = best_pipeline.predict(data)\n",
    "    print(f\"Predicted apartment price: ₦{np.expm1(prediction)[0]:,.2f}\")\n"
   ]
  },
  {
   "cell_type": "code",
   "execution_count": 63,
   "metadata": {},
   "outputs": [
    {
     "name": "stdout",
     "output_type": "stream",
     "text": [
      "Predicted apartment price: ₦4,092,257.18\n"
     ]
    }
   ],
   "source": [
    "# Example test case\n",
    "make_prediction(Serviced=1, Newly_Built=1, Furnished=1, Bedrooms=2, Bathrooms=2, Toilets=2, City=\"Lekki\")"
   ]
  },
  {
   "cell_type": "markdown",
   "metadata": {},
   "source": [
    "# Interactive function for real-time prediction\n"
   ]
  },
  {
   "cell_type": "code",
   "execution_count": 64,
   "metadata": {},
   "outputs": [
    {
     "data": {
      "application/vnd.jupyter.widget-view+json": {
       "model_id": "2ebbbc2d30234f5fa183351db9474bcc",
       "version_major": 2,
       "version_minor": 0
      },
      "text/plain": [
       "Dropdown(description='Serviced:', options=(0, 1), value=0)"
      ]
     },
     "metadata": {},
     "output_type": "display_data"
    },
    {
     "data": {
      "application/vnd.jupyter.widget-view+json": {
       "model_id": "f95e0995a2904fc1bae88556491e0287",
       "version_major": 2,
       "version_minor": 0
      },
      "text/plain": [
       "Dropdown(description='Newly Built:', options=(0, 1), value=0)"
      ]
     },
     "metadata": {},
     "output_type": "display_data"
    },
    {
     "data": {
      "application/vnd.jupyter.widget-view+json": {
       "model_id": "df76f9927aee4ac2acae8b11e432aba1",
       "version_major": 2,
       "version_minor": 0
      },
      "text/plain": [
       "Dropdown(description='Furnished:', options=(0, 1), value=0)"
      ]
     },
     "metadata": {},
     "output_type": "display_data"
    },
    {
     "data": {
      "application/vnd.jupyter.widget-view+json": {
       "model_id": "50e97d1e6f1645139bbcd9241b385627",
       "version_major": 2,
       "version_minor": 0
      },
      "text/plain": [
       "IntSlider(value=3, description='Bedrooms:', max=10, min=1)"
      ]
     },
     "metadata": {},
     "output_type": "display_data"
    },
    {
     "data": {
      "application/vnd.jupyter.widget-view+json": {
       "model_id": "74871b8a616942b9ba4907282a48e5df",
       "version_major": 2,
       "version_minor": 0
      },
      "text/plain": [
       "IntSlider(value=2, description='Bathrooms:', max=10, min=1)"
      ]
     },
     "metadata": {},
     "output_type": "display_data"
    },
    {
     "data": {
      "application/vnd.jupyter.widget-view+json": {
       "model_id": "d0f111e650b74e9cb267374111d84928",
       "version_major": 2,
       "version_minor": 0
      },
      "text/plain": [
       "IntSlider(value=3, description='Toilets:', max=10, min=1)"
      ]
     },
     "metadata": {},
     "output_type": "display_data"
    },
    {
     "data": {
      "application/vnd.jupyter.widget-view+json": {
       "model_id": "10391debaf54452b92c57cc044391177",
       "version_major": 2,
       "version_minor": 0
      },
      "text/plain": [
       "Dropdown(description='City:', options=(5, 3, 2, 4, 6, 1, 7, 0, 8), value=5)"
      ]
     },
     "metadata": {},
     "output_type": "display_data"
    },
    {
     "data": {
      "application/vnd.jupyter.widget-view+json": {
       "model_id": "c1179c99114e4ed6ae000d49df62a38f",
       "version_major": 2,
       "version_minor": 0
      },
      "text/plain": [
       "Output()"
      ]
     },
     "metadata": {},
     "output_type": "display_data"
    }
   ],
   "source": [
    "# Interactive function for real-time prediction\n",
    "def interactive_prediction():\n",
    "    serviced = widgets.Dropdown(options=[0, 1], value=0, description=\"Serviced:\")\n",
    "    newly_built = widgets.Dropdown(options=[0, 1], value=0, description=\"Newly Built:\")\n",
    "    furnished = widgets.Dropdown(options=[0, 1], value=0, description=\"Furnished:\")\n",
    "    bedrooms = widgets.IntSlider(min=1, max=10, value=3, description=\"Bedrooms:\")\n",
    "    bathrooms = widgets.IntSlider(min=1, max=10, value=2, description=\"Bathrooms:\")\n",
    "    toilets = widgets.IntSlider(min=1, max=10, value=3, description=\"Toilets:\")\n",
    "    city = widgets.Dropdown(options=df[\"City\"].unique().tolist(), description=\"City:\")\n",
    "    \n",
    "    output = widgets.Output()\n",
    "\n",
    "    def update_prediction(*args):\n",
    "        with output:\n",
    "            output.clear_output(wait=True)\n",
    "            make_prediction(serviced.value, newly_built.value, furnished.value, bedrooms.value, \n",
    "                            bathrooms.value, toilets.value, city.value)\n",
    "    \n",
    "    for widget in [serviced, newly_built, furnished, bedrooms, bathrooms, toilets, city]:\n",
    "        widget.observe(update_prediction, names=\"value\")\n",
    "    \n",
    "    display(serviced, newly_built, furnished, bedrooms, bathrooms, toilets, city, output)\n",
    "    update_prediction()\n",
    "\n",
    "# Run interactive prediction\n",
    "interactive_prediction()"
   ]
  }
 ],
 "metadata": {
  "kernelspec": {
   "display_name": "Python 3",
   "language": "python",
   "name": "python3"
  },
  "language_info": {
   "codemirror_mode": {
    "name": "ipython",
    "version": 3
   },
   "file_extension": ".py",
   "mimetype": "text/x-python",
   "name": "python",
   "nbconvert_exporter": "python",
   "pygments_lexer": "ipython3",
   "version": "3.13.0"
  }
 },
 "nbformat": 4,
 "nbformat_minor": 2
}
